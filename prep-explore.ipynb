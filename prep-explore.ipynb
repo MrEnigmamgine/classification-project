{
 "cells": [
  {
   "cell_type": "code",
   "execution_count": 1,
   "metadata": {},
   "outputs": [],
   "source": [
    "# Common DS imports\n",
    "import pandas as pd\n",
    "import numpy as np\n",
    "\n",
    "#Visualization Libraries\n",
    "import matplotlib.pyplot as plt\n",
    "import seaborn as sns\n",
    "\n",
    "# Exploration and modeling Libraries\n",
    "from scipy import stats\n",
    "from sklearn.model_selection import train_test_split\n",
    "from sklearn.ensemble import RandomForestClassifier\n",
    "from sklearn.linear_model import LogisticRegression\n",
    "from sklearn import metrics\n",
    "\n",
    "\n",
    "#Helpers\n",
    "import wrangle #'./wrangle.py'"
   ]
  },
  {
   "cell_type": "markdown",
   "metadata": {},
   "source": [
    "# DS Pipeline step 1: Acquire\n",
    "This section will serve as documentation for the process of getting the data into a python environment.  At the end of this section each step will be compiled and documented into a set of functions whose purpose will be to make repeating the process as simple as possible.\n",
    "\n",
    "### Requirements\n",
    "The process will make use of libraries not included with the base installation of python.  "
   ]
  },
  {
   "cell_type": "code",
   "execution_count": 2,
   "metadata": {},
   "outputs": [],
   "source": [
    "# \"\"\"\n",
    "# These commands will install the listed libraries in your python environment.\n",
    "# Since they are only helpful if libraries are missing, to avoid accidentally running them they have been commented out.\n",
    "# If you want to run these commands they will first need to be uncommented (Delete the '#' character at the start of each line)\n",
    "# \"\"\"\n",
    "\n",
    "# %pip install numpy\n",
    "# %pip install pandas\n",
    "# %pip install matplotlib\n",
    "# %pip install seaborn\n",
    "# %pip install scipy\n",
    "# %pip install sklearn"
   ]
  },
  {
   "cell_type": "markdown",
   "metadata": {},
   "source": [
    "### Setting up the SQL code\n",
    "The data for this project lives on CodeUp's MySQL server, so I will need to use python to connect to the server and download the data.  Luckily, pandas includes a method specefically meant for this scenario: `pd.read_sql()`\n",
    "\n",
    "The hardest part of using this method is formatting the URL used in the method without exposing my credentials.  To get around that, I'll store my credentials in a secret `env.py` file and write a function that can be used to create the URL dynamically.  I happen to have one ready-made so there's no need for me to re-invent the wheel."
   ]
  },
  {
   "cell_type": "code",
   "execution_count": 3,
   "metadata": {},
   "outputs": [],
   "source": [
    "def get_db_url(database, hostname='', username='', password='', env=''):\n",
    "    '''Creates a URL for a specific database and credential set to be used with pymysql.\n",
    "\n",
    "    Can be used either with a set of credentials passed directly to the function or with an environment file containing the credentials.\n",
    "    If both are provided, the environment file takes precedence.\n",
    "\n",
    "    Parameters:\n",
    "    database (str): The target database that pymysql will connect to, which will provide context for any SQL queries used in the connection.\n",
    "    hostname (str): The DNS hostname or IP-Adress for the connection\n",
    "    username (str), password (str): User credentials that will be used in a sql connection.\n",
    "    env (str): Relative path to an environment file. ('./env.py')  The file must include the hostname, username, and password variables.\n",
    "\n",
    "    Returns:\n",
    "    str: Full URL for use with a pymysql connection\n",
    "    '''\n",
    "    if env != '':\n",
    "        d = {}\n",
    "        file = open(env)\n",
    "        for line in file:\n",
    "            (key, value) = line.split('=')\n",
    "            d[key] = value.replace('\\n', '').replace(\"'\",'').replace('\"','')\n",
    "        username = d['username']\n",
    "        hostname = d['hostname']\n",
    "        password = d['password']\n",
    "    url = f'mysql+pymysql://{username}:{password}@{hostname}/{database}'\n",
    "    return url\n"
   ]
  },
  {
   "cell_type": "markdown",
   "metadata": {},
   "source": [
    "Now that the function has been declared we can feed it into the `pandas.read_sql()` method and start pulling some data."
   ]
  },
  {
   "cell_type": "code",
   "execution_count": 4,
   "metadata": {},
   "outputs": [
    {
     "data": {
      "text/html": [
       "<div>\n",
       "<style scoped>\n",
       "    .dataframe tbody tr th:only-of-type {\n",
       "        vertical-align: middle;\n",
       "    }\n",
       "\n",
       "    .dataframe tbody tr th {\n",
       "        vertical-align: top;\n",
       "    }\n",
       "\n",
       "    .dataframe thead th {\n",
       "        text-align: right;\n",
       "    }\n",
       "</style>\n",
       "<table border=\"1\" class=\"dataframe\">\n",
       "  <thead>\n",
       "    <tr style=\"text-align: right;\">\n",
       "      <th></th>\n",
       "      <th>contract_type_id</th>\n",
       "      <th>payment_type_id</th>\n",
       "      <th>internet_service_type_id</th>\n",
       "      <th>customer_id</th>\n",
       "      <th>gender</th>\n",
       "      <th>senior_citizen</th>\n",
       "      <th>partner</th>\n",
       "      <th>dependents</th>\n",
       "      <th>tenure</th>\n",
       "      <th>phone_service</th>\n",
       "      <th>...</th>\n",
       "      <th>tech_support</th>\n",
       "      <th>streaming_tv</th>\n",
       "      <th>streaming_movies</th>\n",
       "      <th>paperless_billing</th>\n",
       "      <th>monthly_charges</th>\n",
       "      <th>total_charges</th>\n",
       "      <th>churn</th>\n",
       "      <th>internet_service_type</th>\n",
       "      <th>payment_type</th>\n",
       "      <th>contract_type</th>\n",
       "    </tr>\n",
       "  </thead>\n",
       "  <tbody>\n",
       "    <tr>\n",
       "      <th>0</th>\n",
       "      <td>2</td>\n",
       "      <td>2</td>\n",
       "      <td>1</td>\n",
       "      <td>0002-ORFBO</td>\n",
       "      <td>Female</td>\n",
       "      <td>0</td>\n",
       "      <td>Yes</td>\n",
       "      <td>Yes</td>\n",
       "      <td>9</td>\n",
       "      <td>Yes</td>\n",
       "      <td>...</td>\n",
       "      <td>Yes</td>\n",
       "      <td>Yes</td>\n",
       "      <td>No</td>\n",
       "      <td>Yes</td>\n",
       "      <td>65.6</td>\n",
       "      <td>593.3</td>\n",
       "      <td>No</td>\n",
       "      <td>DSL</td>\n",
       "      <td>Mailed check</td>\n",
       "      <td>One year</td>\n",
       "    </tr>\n",
       "    <tr>\n",
       "      <th>1</th>\n",
       "      <td>1</td>\n",
       "      <td>2</td>\n",
       "      <td>1</td>\n",
       "      <td>0003-MKNFE</td>\n",
       "      <td>Male</td>\n",
       "      <td>0</td>\n",
       "      <td>No</td>\n",
       "      <td>No</td>\n",
       "      <td>9</td>\n",
       "      <td>Yes</td>\n",
       "      <td>...</td>\n",
       "      <td>No</td>\n",
       "      <td>No</td>\n",
       "      <td>Yes</td>\n",
       "      <td>No</td>\n",
       "      <td>59.9</td>\n",
       "      <td>542.4</td>\n",
       "      <td>No</td>\n",
       "      <td>DSL</td>\n",
       "      <td>Mailed check</td>\n",
       "      <td>Month-to-month</td>\n",
       "    </tr>\n",
       "  </tbody>\n",
       "</table>\n",
       "<p>2 rows × 24 columns</p>\n",
       "</div>"
      ],
      "text/plain": [
       "   contract_type_id  payment_type_id  internet_service_type_id customer_id  \\\n",
       "0                 2                2                         1  0002-ORFBO   \n",
       "1                 1                2                         1  0003-MKNFE   \n",
       "\n",
       "   gender  senior_citizen partner dependents  tenure phone_service  ...  \\\n",
       "0  Female               0     Yes        Yes       9           Yes  ...   \n",
       "1    Male               0      No         No       9           Yes  ...   \n",
       "\n",
       "  tech_support streaming_tv streaming_movies paperless_billing  \\\n",
       "0          Yes          Yes               No               Yes   \n",
       "1           No           No              Yes                No   \n",
       "\n",
       "  monthly_charges total_charges churn internet_service_type  payment_type  \\\n",
       "0            65.6         593.3    No                   DSL  Mailed check   \n",
       "1            59.9         542.4    No                   DSL  Mailed check   \n",
       "\n",
       "    contract_type  \n",
       "0        One year  \n",
       "1  Month-to-month  \n",
       "\n",
       "[2 rows x 24 columns]"
      ]
     },
     "execution_count": 4,
     "metadata": {},
     "output_type": "execute_result"
    }
   ],
   "source": [
    "# Use our get_db_url() function to create a properly formatted url and store it into its own variable to make things easier to read later.\n",
    "url = get_db_url('telco_churn', env='./env.py')\n",
    "\n",
    "# SQL syntax can get unruly, and this particular query isn't exactly straightforward. So we'll store it in its own variable as well.\n",
    "query = \"\"\"\n",
    "        SELECT \n",
    "            *\n",
    "        FROM\n",
    "            telco_churn.customers\n",
    "                JOIN\n",
    "            telco_churn.internet_service_types USING (internet_service_type_id)\n",
    "                JOIN\n",
    "            telco_churn.payment_types USING (payment_type_id)\n",
    "                JOIN\n",
    "            telco_churn.contract_types USING (contract_type_id)\n",
    "        ;\n",
    "        \"\"\"\n",
    "\n",
    "# Now it's time to use pandas to import our data.  \n",
    "df = pd.read_sql(query, url)\n",
    "\n",
    "# Display the first two rows to make sure the import was successful\n",
    "df.head(2)"
   ]
  },
  {
   "cell_type": "markdown",
   "metadata": {},
   "source": [
    "Next we'll package this process up into its own function and commit it to `wrangle.py`"
   ]
  },
  {
   "cell_type": "code",
   "execution_count": 5,
   "metadata": {},
   "outputs": [
    {
     "data": {
      "text/html": [
       "<div>\n",
       "<style scoped>\n",
       "    .dataframe tbody tr th:only-of-type {\n",
       "        vertical-align: middle;\n",
       "    }\n",
       "\n",
       "    .dataframe tbody tr th {\n",
       "        vertical-align: top;\n",
       "    }\n",
       "\n",
       "    .dataframe thead th {\n",
       "        text-align: right;\n",
       "    }\n",
       "</style>\n",
       "<table border=\"1\" class=\"dataframe\">\n",
       "  <thead>\n",
       "    <tr style=\"text-align: right;\">\n",
       "      <th></th>\n",
       "      <th>contract_type_id</th>\n",
       "      <th>payment_type_id</th>\n",
       "      <th>internet_service_type_id</th>\n",
       "      <th>customer_id</th>\n",
       "      <th>gender</th>\n",
       "      <th>senior_citizen</th>\n",
       "      <th>partner</th>\n",
       "      <th>dependents</th>\n",
       "      <th>tenure</th>\n",
       "      <th>phone_service</th>\n",
       "      <th>...</th>\n",
       "      <th>tech_support</th>\n",
       "      <th>streaming_tv</th>\n",
       "      <th>streaming_movies</th>\n",
       "      <th>paperless_billing</th>\n",
       "      <th>monthly_charges</th>\n",
       "      <th>total_charges</th>\n",
       "      <th>churn</th>\n",
       "      <th>internet_service_type</th>\n",
       "      <th>payment_type</th>\n",
       "      <th>contract_type</th>\n",
       "    </tr>\n",
       "  </thead>\n",
       "  <tbody>\n",
       "    <tr>\n",
       "      <th>0</th>\n",
       "      <td>2</td>\n",
       "      <td>2</td>\n",
       "      <td>1</td>\n",
       "      <td>0002-ORFBO</td>\n",
       "      <td>Female</td>\n",
       "      <td>0</td>\n",
       "      <td>Yes</td>\n",
       "      <td>Yes</td>\n",
       "      <td>9</td>\n",
       "      <td>Yes</td>\n",
       "      <td>...</td>\n",
       "      <td>Yes</td>\n",
       "      <td>Yes</td>\n",
       "      <td>No</td>\n",
       "      <td>Yes</td>\n",
       "      <td>65.6</td>\n",
       "      <td>593.3</td>\n",
       "      <td>No</td>\n",
       "      <td>DSL</td>\n",
       "      <td>Mailed check</td>\n",
       "      <td>One year</td>\n",
       "    </tr>\n",
       "    <tr>\n",
       "      <th>1</th>\n",
       "      <td>1</td>\n",
       "      <td>2</td>\n",
       "      <td>1</td>\n",
       "      <td>0003-MKNFE</td>\n",
       "      <td>Male</td>\n",
       "      <td>0</td>\n",
       "      <td>No</td>\n",
       "      <td>No</td>\n",
       "      <td>9</td>\n",
       "      <td>Yes</td>\n",
       "      <td>...</td>\n",
       "      <td>No</td>\n",
       "      <td>No</td>\n",
       "      <td>Yes</td>\n",
       "      <td>No</td>\n",
       "      <td>59.9</td>\n",
       "      <td>542.4</td>\n",
       "      <td>No</td>\n",
       "      <td>DSL</td>\n",
       "      <td>Mailed check</td>\n",
       "      <td>Month-to-month</td>\n",
       "    </tr>\n",
       "  </tbody>\n",
       "</table>\n",
       "<p>2 rows × 24 columns</p>\n",
       "</div>"
      ],
      "text/plain": [
       "   contract_type_id  payment_type_id  internet_service_type_id customer_id  \\\n",
       "0                 2                2                         1  0002-ORFBO   \n",
       "1                 1                2                         1  0003-MKNFE   \n",
       "\n",
       "   gender  senior_citizen partner dependents  tenure phone_service  ...  \\\n",
       "0  Female               0     Yes        Yes       9           Yes  ...   \n",
       "1    Male               0      No         No       9           Yes  ...   \n",
       "\n",
       "  tech_support streaming_tv streaming_movies paperless_billing  \\\n",
       "0          Yes          Yes               No               Yes   \n",
       "1           No           No              Yes                No   \n",
       "\n",
       "  monthly_charges total_charges churn internet_service_type  payment_type  \\\n",
       "0            65.6         593.3    No                   DSL  Mailed check   \n",
       "1            59.9         542.4    No                   DSL  Mailed check   \n",
       "\n",
       "    contract_type  \n",
       "0        One year  \n",
       "1  Month-to-month  \n",
       "\n",
       "[2 rows x 24 columns]"
      ]
     },
     "execution_count": 5,
     "metadata": {},
     "output_type": "execute_result"
    }
   ],
   "source": [
    "def new_telco_data():\n",
    "    url = get_db_url('telco_churn',env='./env.py')\n",
    "    query = \"\"\"\n",
    "        SELECT \n",
    "            *\n",
    "        FROM\n",
    "            telco_churn.customers\n",
    "                JOIN\n",
    "            telco_churn.internet_service_types USING (internet_service_type_id)\n",
    "                JOIN\n",
    "            telco_churn.payment_types USING (payment_type_id)\n",
    "                JOIN\n",
    "            telco_churn.contract_types USING (contract_type_id)\n",
    "        ;\n",
    "        \"\"\"\n",
    "    df = pd.read_sql(query, url)\n",
    "    return df\n",
    "\n",
    "# Let's make sure it works\n",
    "new_telco_data().head(2)"
   ]
  },
  {
   "cell_type": "code",
   "execution_count": 6,
   "metadata": {},
   "outputs": [
    {
     "data": {
      "text/html": [
       "<div>\n",
       "<style scoped>\n",
       "    .dataframe tbody tr th:only-of-type {\n",
       "        vertical-align: middle;\n",
       "    }\n",
       "\n",
       "    .dataframe tbody tr th {\n",
       "        vertical-align: top;\n",
       "    }\n",
       "\n",
       "    .dataframe thead th {\n",
       "        text-align: right;\n",
       "    }\n",
       "</style>\n",
       "<table border=\"1\" class=\"dataframe\">\n",
       "  <thead>\n",
       "    <tr style=\"text-align: right;\">\n",
       "      <th></th>\n",
       "      <th>contract_type_id</th>\n",
       "      <th>payment_type_id</th>\n",
       "      <th>internet_service_type_id</th>\n",
       "      <th>customer_id</th>\n",
       "      <th>gender</th>\n",
       "      <th>senior_citizen</th>\n",
       "      <th>partner</th>\n",
       "      <th>dependents</th>\n",
       "      <th>tenure</th>\n",
       "      <th>phone_service</th>\n",
       "      <th>...</th>\n",
       "      <th>tech_support</th>\n",
       "      <th>streaming_tv</th>\n",
       "      <th>streaming_movies</th>\n",
       "      <th>paperless_billing</th>\n",
       "      <th>monthly_charges</th>\n",
       "      <th>total_charges</th>\n",
       "      <th>churn</th>\n",
       "      <th>internet_service_type</th>\n",
       "      <th>payment_type</th>\n",
       "      <th>contract_type</th>\n",
       "    </tr>\n",
       "  </thead>\n",
       "  <tbody>\n",
       "    <tr>\n",
       "      <th>0</th>\n",
       "      <td>2</td>\n",
       "      <td>2</td>\n",
       "      <td>1</td>\n",
       "      <td>0002-ORFBO</td>\n",
       "      <td>Female</td>\n",
       "      <td>0</td>\n",
       "      <td>Yes</td>\n",
       "      <td>Yes</td>\n",
       "      <td>9</td>\n",
       "      <td>Yes</td>\n",
       "      <td>...</td>\n",
       "      <td>Yes</td>\n",
       "      <td>Yes</td>\n",
       "      <td>No</td>\n",
       "      <td>Yes</td>\n",
       "      <td>65.6</td>\n",
       "      <td>593.3</td>\n",
       "      <td>No</td>\n",
       "      <td>DSL</td>\n",
       "      <td>Mailed check</td>\n",
       "      <td>One year</td>\n",
       "    </tr>\n",
       "    <tr>\n",
       "      <th>1</th>\n",
       "      <td>1</td>\n",
       "      <td>2</td>\n",
       "      <td>1</td>\n",
       "      <td>0003-MKNFE</td>\n",
       "      <td>Male</td>\n",
       "      <td>0</td>\n",
       "      <td>No</td>\n",
       "      <td>No</td>\n",
       "      <td>9</td>\n",
       "      <td>Yes</td>\n",
       "      <td>...</td>\n",
       "      <td>No</td>\n",
       "      <td>No</td>\n",
       "      <td>Yes</td>\n",
       "      <td>No</td>\n",
       "      <td>59.9</td>\n",
       "      <td>542.4</td>\n",
       "      <td>No</td>\n",
       "      <td>DSL</td>\n",
       "      <td>Mailed check</td>\n",
       "      <td>Month-to-month</td>\n",
       "    </tr>\n",
       "  </tbody>\n",
       "</table>\n",
       "<p>2 rows × 24 columns</p>\n",
       "</div>"
      ],
      "text/plain": [
       "   contract_type_id  payment_type_id  internet_service_type_id customer_id  \\\n",
       "0                 2                2                         1  0002-ORFBO   \n",
       "1                 1                2                         1  0003-MKNFE   \n",
       "\n",
       "   gender  senior_citizen partner dependents  tenure phone_service  ...  \\\n",
       "0  Female               0     Yes        Yes       9           Yes  ...   \n",
       "1    Male               0      No         No       9           Yes  ...   \n",
       "\n",
       "  tech_support streaming_tv streaming_movies paperless_billing  \\\n",
       "0          Yes          Yes               No               Yes   \n",
       "1           No           No              Yes                No   \n",
       "\n",
       "  monthly_charges total_charges churn internet_service_type  payment_type  \\\n",
       "0            65.6         593.3    No                   DSL  Mailed check   \n",
       "1            59.9         542.4    No                   DSL  Mailed check   \n",
       "\n",
       "    contract_type  \n",
       "0        One year  \n",
       "1  Month-to-month  \n",
       "\n",
       "[2 rows x 24 columns]"
      ]
     },
     "execution_count": 6,
     "metadata": {},
     "output_type": "execute_result"
    }
   ],
   "source": [
    "# And also make sure it works when imported from our helper library\n",
    "wrangle.new_telco_data().head(2)"
   ]
  },
  {
   "cell_type": "markdown",
   "metadata": {},
   "source": [
    "### Cacheing the data\n",
    "Now that we have the data in hand I should store it locally.  This will speed things up by not having to download a new copy of the data each time.  It also ensures that we can still access the data in the event of a server outage.\n",
    "\n",
    "Pandas helps us again with its `pandas.to_csv()` method."
   ]
  },
  {
   "cell_type": "code",
   "execution_count": 7,
   "metadata": {},
   "outputs": [],
   "source": [
    "# Store the data in a csv file in this directory with the name telco.csv\n",
    "\n",
    "\n",
    "# df.to_csv('./telco.csv') #Commented out to reduce write-cycles on my system's drive"
   ]
  },
  {
   "cell_type": "markdown",
   "metadata": {},
   "source": [
    "Of course, this only helps us if we can read the data from the CSV file as well.  We'll do so with `pandas.read_csv()`"
   ]
  },
  {
   "cell_type": "code",
   "execution_count": 8,
   "metadata": {},
   "outputs": [
    {
     "data": {
      "text/html": [
       "<div>\n",
       "<style scoped>\n",
       "    .dataframe tbody tr th:only-of-type {\n",
       "        vertical-align: middle;\n",
       "    }\n",
       "\n",
       "    .dataframe tbody tr th {\n",
       "        vertical-align: top;\n",
       "    }\n",
       "\n",
       "    .dataframe thead th {\n",
       "        text-align: right;\n",
       "    }\n",
       "</style>\n",
       "<table border=\"1\" class=\"dataframe\">\n",
       "  <thead>\n",
       "    <tr style=\"text-align: right;\">\n",
       "      <th></th>\n",
       "      <th>Unnamed: 0</th>\n",
       "      <th>contract_type_id</th>\n",
       "      <th>payment_type_id</th>\n",
       "      <th>internet_service_type_id</th>\n",
       "      <th>customer_id</th>\n",
       "      <th>gender</th>\n",
       "      <th>senior_citizen</th>\n",
       "      <th>partner</th>\n",
       "      <th>dependents</th>\n",
       "      <th>tenure</th>\n",
       "      <th>...</th>\n",
       "      <th>tech_support</th>\n",
       "      <th>streaming_tv</th>\n",
       "      <th>streaming_movies</th>\n",
       "      <th>paperless_billing</th>\n",
       "      <th>monthly_charges</th>\n",
       "      <th>total_charges</th>\n",
       "      <th>churn</th>\n",
       "      <th>internet_service_type</th>\n",
       "      <th>payment_type</th>\n",
       "      <th>contract_type</th>\n",
       "    </tr>\n",
       "  </thead>\n",
       "  <tbody>\n",
       "    <tr>\n",
       "      <th>0</th>\n",
       "      <td>0</td>\n",
       "      <td>2</td>\n",
       "      <td>2</td>\n",
       "      <td>1</td>\n",
       "      <td>0002-ORFBO</td>\n",
       "      <td>Female</td>\n",
       "      <td>0</td>\n",
       "      <td>Yes</td>\n",
       "      <td>Yes</td>\n",
       "      <td>9</td>\n",
       "      <td>...</td>\n",
       "      <td>Yes</td>\n",
       "      <td>Yes</td>\n",
       "      <td>No</td>\n",
       "      <td>Yes</td>\n",
       "      <td>65.6</td>\n",
       "      <td>593.3</td>\n",
       "      <td>No</td>\n",
       "      <td>DSL</td>\n",
       "      <td>Mailed check</td>\n",
       "      <td>One year</td>\n",
       "    </tr>\n",
       "    <tr>\n",
       "      <th>1</th>\n",
       "      <td>1</td>\n",
       "      <td>1</td>\n",
       "      <td>2</td>\n",
       "      <td>1</td>\n",
       "      <td>0003-MKNFE</td>\n",
       "      <td>Male</td>\n",
       "      <td>0</td>\n",
       "      <td>No</td>\n",
       "      <td>No</td>\n",
       "      <td>9</td>\n",
       "      <td>...</td>\n",
       "      <td>No</td>\n",
       "      <td>No</td>\n",
       "      <td>Yes</td>\n",
       "      <td>No</td>\n",
       "      <td>59.9</td>\n",
       "      <td>542.4</td>\n",
       "      <td>No</td>\n",
       "      <td>DSL</td>\n",
       "      <td>Mailed check</td>\n",
       "      <td>Month-to-month</td>\n",
       "    </tr>\n",
       "  </tbody>\n",
       "</table>\n",
       "<p>2 rows × 25 columns</p>\n",
       "</div>"
      ],
      "text/plain": [
       "   Unnamed: 0  contract_type_id  payment_type_id  internet_service_type_id  \\\n",
       "0           0                 2                2                         1   \n",
       "1           1                 1                2                         1   \n",
       "\n",
       "  customer_id  gender  senior_citizen partner dependents  tenure  ...  \\\n",
       "0  0002-ORFBO  Female               0     Yes        Yes       9  ...   \n",
       "1  0003-MKNFE    Male               0      No         No       9  ...   \n",
       "\n",
       "  tech_support streaming_tv streaming_movies paperless_billing  \\\n",
       "0          Yes          Yes               No               Yes   \n",
       "1           No           No              Yes                No   \n",
       "\n",
       "  monthly_charges total_charges churn internet_service_type  payment_type  \\\n",
       "0            65.6         593.3    No                   DSL  Mailed check   \n",
       "1            59.9         542.4    No                   DSL  Mailed check   \n",
       "\n",
       "    contract_type  \n",
       "0        One year  \n",
       "1  Month-to-month  \n",
       "\n",
       "[2 rows x 25 columns]"
      ]
     },
     "execution_count": 8,
     "metadata": {},
     "output_type": "execute_result"
    }
   ],
   "source": [
    "# Read the data from our newly created csv file.\n",
    "pd.read_csv('./telco.csv').head(2)"
   ]
  },
  {
   "cell_type": "markdown",
   "metadata": {},
   "source": [
    "Hmm.. It looks like there's a new column there that we don't want: `Unnamed: 0`.  This happens because when we asked pandas to write our data to a file, it also included the dataframe index.\n",
    "Luckily we can tell pandas that our file includes an index by passing in the argument `index_col=`. "
   ]
  },
  {
   "cell_type": "code",
   "execution_count": 9,
   "metadata": {},
   "outputs": [
    {
     "data": {
      "text/html": [
       "<div>\n",
       "<style scoped>\n",
       "    .dataframe tbody tr th:only-of-type {\n",
       "        vertical-align: middle;\n",
       "    }\n",
       "\n",
       "    .dataframe tbody tr th {\n",
       "        vertical-align: top;\n",
       "    }\n",
       "\n",
       "    .dataframe thead th {\n",
       "        text-align: right;\n",
       "    }\n",
       "</style>\n",
       "<table border=\"1\" class=\"dataframe\">\n",
       "  <thead>\n",
       "    <tr style=\"text-align: right;\">\n",
       "      <th></th>\n",
       "      <th>contract_type_id</th>\n",
       "      <th>payment_type_id</th>\n",
       "      <th>internet_service_type_id</th>\n",
       "      <th>customer_id</th>\n",
       "      <th>gender</th>\n",
       "      <th>senior_citizen</th>\n",
       "      <th>partner</th>\n",
       "      <th>dependents</th>\n",
       "      <th>tenure</th>\n",
       "      <th>phone_service</th>\n",
       "      <th>...</th>\n",
       "      <th>tech_support</th>\n",
       "      <th>streaming_tv</th>\n",
       "      <th>streaming_movies</th>\n",
       "      <th>paperless_billing</th>\n",
       "      <th>monthly_charges</th>\n",
       "      <th>total_charges</th>\n",
       "      <th>churn</th>\n",
       "      <th>internet_service_type</th>\n",
       "      <th>payment_type</th>\n",
       "      <th>contract_type</th>\n",
       "    </tr>\n",
       "  </thead>\n",
       "  <tbody>\n",
       "    <tr>\n",
       "      <th>0</th>\n",
       "      <td>2</td>\n",
       "      <td>2</td>\n",
       "      <td>1</td>\n",
       "      <td>0002-ORFBO</td>\n",
       "      <td>Female</td>\n",
       "      <td>0</td>\n",
       "      <td>Yes</td>\n",
       "      <td>Yes</td>\n",
       "      <td>9</td>\n",
       "      <td>Yes</td>\n",
       "      <td>...</td>\n",
       "      <td>Yes</td>\n",
       "      <td>Yes</td>\n",
       "      <td>No</td>\n",
       "      <td>Yes</td>\n",
       "      <td>65.6</td>\n",
       "      <td>593.3</td>\n",
       "      <td>No</td>\n",
       "      <td>DSL</td>\n",
       "      <td>Mailed check</td>\n",
       "      <td>One year</td>\n",
       "    </tr>\n",
       "    <tr>\n",
       "      <th>1</th>\n",
       "      <td>1</td>\n",
       "      <td>2</td>\n",
       "      <td>1</td>\n",
       "      <td>0003-MKNFE</td>\n",
       "      <td>Male</td>\n",
       "      <td>0</td>\n",
       "      <td>No</td>\n",
       "      <td>No</td>\n",
       "      <td>9</td>\n",
       "      <td>Yes</td>\n",
       "      <td>...</td>\n",
       "      <td>No</td>\n",
       "      <td>No</td>\n",
       "      <td>Yes</td>\n",
       "      <td>No</td>\n",
       "      <td>59.9</td>\n",
       "      <td>542.4</td>\n",
       "      <td>No</td>\n",
       "      <td>DSL</td>\n",
       "      <td>Mailed check</td>\n",
       "      <td>Month-to-month</td>\n",
       "    </tr>\n",
       "  </tbody>\n",
       "</table>\n",
       "<p>2 rows × 24 columns</p>\n",
       "</div>"
      ],
      "text/plain": [
       "   contract_type_id  payment_type_id  internet_service_type_id customer_id  \\\n",
       "0                 2                2                         1  0002-ORFBO   \n",
       "1                 1                2                         1  0003-MKNFE   \n",
       "\n",
       "   gender  senior_citizen partner dependents  tenure phone_service  ...  \\\n",
       "0  Female               0     Yes        Yes       9           Yes  ...   \n",
       "1    Male               0      No         No       9           Yes  ...   \n",
       "\n",
       "  tech_support streaming_tv streaming_movies paperless_billing  \\\n",
       "0          Yes          Yes               No               Yes   \n",
       "1           No           No              Yes                No   \n",
       "\n",
       "  monthly_charges total_charges churn internet_service_type  payment_type  \\\n",
       "0            65.6         593.3    No                   DSL  Mailed check   \n",
       "1            59.9         542.4    No                   DSL  Mailed check   \n",
       "\n",
       "    contract_type  \n",
       "0        One year  \n",
       "1  Month-to-month  \n",
       "\n",
       "[2 rows x 24 columns]"
      ]
     },
     "execution_count": 9,
     "metadata": {},
     "output_type": "execute_result"
    }
   ],
   "source": [
    "# Read the data again, this time declaring which column to use as the dataframe index.\n",
    "pd.read_csv('./telco.csv', index_col=0).head(2)"
   ]
  },
  {
   "cell_type": "markdown",
   "metadata": {},
   "source": [
    "Great!  But we also don't want to have to keep track of whether or not there's already a csv file cached and which method to use to acquire the data.  We'll create a function for that:"
   ]
  },
  {
   "cell_type": "code",
   "execution_count": 10,
   "metadata": {},
   "outputs": [
    {
     "data": {
      "text/html": [
       "<div>\n",
       "<style scoped>\n",
       "    .dataframe tbody tr th:only-of-type {\n",
       "        vertical-align: middle;\n",
       "    }\n",
       "\n",
       "    .dataframe tbody tr th {\n",
       "        vertical-align: top;\n",
       "    }\n",
       "\n",
       "    .dataframe thead th {\n",
       "        text-align: right;\n",
       "    }\n",
       "</style>\n",
       "<table border=\"1\" class=\"dataframe\">\n",
       "  <thead>\n",
       "    <tr style=\"text-align: right;\">\n",
       "      <th></th>\n",
       "      <th>contract_type_id</th>\n",
       "      <th>payment_type_id</th>\n",
       "      <th>internet_service_type_id</th>\n",
       "      <th>customer_id</th>\n",
       "      <th>gender</th>\n",
       "      <th>senior_citizen</th>\n",
       "      <th>partner</th>\n",
       "      <th>dependents</th>\n",
       "      <th>tenure</th>\n",
       "      <th>phone_service</th>\n",
       "      <th>...</th>\n",
       "      <th>tech_support</th>\n",
       "      <th>streaming_tv</th>\n",
       "      <th>streaming_movies</th>\n",
       "      <th>paperless_billing</th>\n",
       "      <th>monthly_charges</th>\n",
       "      <th>total_charges</th>\n",
       "      <th>churn</th>\n",
       "      <th>internet_service_type</th>\n",
       "      <th>payment_type</th>\n",
       "      <th>contract_type</th>\n",
       "    </tr>\n",
       "  </thead>\n",
       "  <tbody>\n",
       "    <tr>\n",
       "      <th>0</th>\n",
       "      <td>2</td>\n",
       "      <td>2</td>\n",
       "      <td>1</td>\n",
       "      <td>0002-ORFBO</td>\n",
       "      <td>Female</td>\n",
       "      <td>0</td>\n",
       "      <td>Yes</td>\n",
       "      <td>Yes</td>\n",
       "      <td>9</td>\n",
       "      <td>Yes</td>\n",
       "      <td>...</td>\n",
       "      <td>Yes</td>\n",
       "      <td>Yes</td>\n",
       "      <td>No</td>\n",
       "      <td>Yes</td>\n",
       "      <td>65.6</td>\n",
       "      <td>593.3</td>\n",
       "      <td>No</td>\n",
       "      <td>DSL</td>\n",
       "      <td>Mailed check</td>\n",
       "      <td>One year</td>\n",
       "    </tr>\n",
       "    <tr>\n",
       "      <th>1</th>\n",
       "      <td>1</td>\n",
       "      <td>2</td>\n",
       "      <td>1</td>\n",
       "      <td>0003-MKNFE</td>\n",
       "      <td>Male</td>\n",
       "      <td>0</td>\n",
       "      <td>No</td>\n",
       "      <td>No</td>\n",
       "      <td>9</td>\n",
       "      <td>Yes</td>\n",
       "      <td>...</td>\n",
       "      <td>No</td>\n",
       "      <td>No</td>\n",
       "      <td>Yes</td>\n",
       "      <td>No</td>\n",
       "      <td>59.9</td>\n",
       "      <td>542.4</td>\n",
       "      <td>No</td>\n",
       "      <td>DSL</td>\n",
       "      <td>Mailed check</td>\n",
       "      <td>Month-to-month</td>\n",
       "    </tr>\n",
       "  </tbody>\n",
       "</table>\n",
       "<p>2 rows × 24 columns</p>\n",
       "</div>"
      ],
      "text/plain": [
       "   contract_type_id  payment_type_id  internet_service_type_id customer_id  \\\n",
       "0                 2                2                         1  0002-ORFBO   \n",
       "1                 1                2                         1  0003-MKNFE   \n",
       "\n",
       "   gender  senior_citizen partner dependents  tenure phone_service  ...  \\\n",
       "0  Female               0     Yes        Yes       9           Yes  ...   \n",
       "1    Male               0      No         No       9           Yes  ...   \n",
       "\n",
       "  tech_support streaming_tv streaming_movies paperless_billing  \\\n",
       "0          Yes          Yes               No               Yes   \n",
       "1           No           No              Yes                No   \n",
       "\n",
       "  monthly_charges total_charges churn internet_service_type  payment_type  \\\n",
       "0            65.6         593.3    No                   DSL  Mailed check   \n",
       "1            59.9         542.4    No                   DSL  Mailed check   \n",
       "\n",
       "    contract_type  \n",
       "0        One year  \n",
       "1  Month-to-month  \n",
       "\n",
       "[2 rows x 24 columns]"
      ]
     },
     "execution_count": 10,
     "metadata": {},
     "output_type": "execute_result"
    }
   ],
   "source": [
    "# This function makes use of the `os` library.  We'll have to import it first.\n",
    "import os\n",
    "\n",
    "def get_telco_data():\n",
    "    filename = \"telco.csv\"\n",
    "    \n",
    "    # if file is available locally, read it\n",
    "    if os.path.isfile(filename):\n",
    "        return pd.read_csv(filename, index_col=0)\n",
    "    \n",
    "    # if file not available locally, acquire data from SQL database\n",
    "    # and write it as csv locally for future use\n",
    "    else:\n",
    "        # read the SQL query into a dataframe\n",
    "        df = new_telco_data()\n",
    "        \n",
    "        # Write that dataframe to disk for later. Called \"caching\" the data for later.\n",
    "        df.to_csv(filename)\n",
    "\n",
    "        # Return the dataframe to the calling code\n",
    "        return df  \n",
    "\n",
    "# Make sure it works\n",
    "get_telco_data().head(2)"
   ]
  },
  {
   "cell_type": "code",
   "execution_count": 11,
   "metadata": {},
   "outputs": [
    {
     "data": {
      "text/html": [
       "<div>\n",
       "<style scoped>\n",
       "    .dataframe tbody tr th:only-of-type {\n",
       "        vertical-align: middle;\n",
       "    }\n",
       "\n",
       "    .dataframe tbody tr th {\n",
       "        vertical-align: top;\n",
       "    }\n",
       "\n",
       "    .dataframe thead th {\n",
       "        text-align: right;\n",
       "    }\n",
       "</style>\n",
       "<table border=\"1\" class=\"dataframe\">\n",
       "  <thead>\n",
       "    <tr style=\"text-align: right;\">\n",
       "      <th></th>\n",
       "      <th>contract_type_id</th>\n",
       "      <th>payment_type_id</th>\n",
       "      <th>internet_service_type_id</th>\n",
       "      <th>customer_id</th>\n",
       "      <th>gender</th>\n",
       "      <th>senior_citizen</th>\n",
       "      <th>partner</th>\n",
       "      <th>dependents</th>\n",
       "      <th>tenure</th>\n",
       "      <th>phone_service</th>\n",
       "      <th>...</th>\n",
       "      <th>tech_support</th>\n",
       "      <th>streaming_tv</th>\n",
       "      <th>streaming_movies</th>\n",
       "      <th>paperless_billing</th>\n",
       "      <th>monthly_charges</th>\n",
       "      <th>total_charges</th>\n",
       "      <th>churn</th>\n",
       "      <th>internet_service_type</th>\n",
       "      <th>payment_type</th>\n",
       "      <th>contract_type</th>\n",
       "    </tr>\n",
       "  </thead>\n",
       "  <tbody>\n",
       "    <tr>\n",
       "      <th>0</th>\n",
       "      <td>2</td>\n",
       "      <td>2</td>\n",
       "      <td>1</td>\n",
       "      <td>0002-ORFBO</td>\n",
       "      <td>Female</td>\n",
       "      <td>0</td>\n",
       "      <td>Yes</td>\n",
       "      <td>Yes</td>\n",
       "      <td>9</td>\n",
       "      <td>Yes</td>\n",
       "      <td>...</td>\n",
       "      <td>Yes</td>\n",
       "      <td>Yes</td>\n",
       "      <td>No</td>\n",
       "      <td>Yes</td>\n",
       "      <td>65.6</td>\n",
       "      <td>593.3</td>\n",
       "      <td>No</td>\n",
       "      <td>DSL</td>\n",
       "      <td>Mailed check</td>\n",
       "      <td>One year</td>\n",
       "    </tr>\n",
       "    <tr>\n",
       "      <th>1</th>\n",
       "      <td>1</td>\n",
       "      <td>2</td>\n",
       "      <td>1</td>\n",
       "      <td>0003-MKNFE</td>\n",
       "      <td>Male</td>\n",
       "      <td>0</td>\n",
       "      <td>No</td>\n",
       "      <td>No</td>\n",
       "      <td>9</td>\n",
       "      <td>Yes</td>\n",
       "      <td>...</td>\n",
       "      <td>No</td>\n",
       "      <td>No</td>\n",
       "      <td>Yes</td>\n",
       "      <td>No</td>\n",
       "      <td>59.9</td>\n",
       "      <td>542.4</td>\n",
       "      <td>No</td>\n",
       "      <td>DSL</td>\n",
       "      <td>Mailed check</td>\n",
       "      <td>Month-to-month</td>\n",
       "    </tr>\n",
       "  </tbody>\n",
       "</table>\n",
       "<p>2 rows × 24 columns</p>\n",
       "</div>"
      ],
      "text/plain": [
       "   contract_type_id  payment_type_id  internet_service_type_id customer_id  \\\n",
       "0                 2                2                         1  0002-ORFBO   \n",
       "1                 1                2                         1  0003-MKNFE   \n",
       "\n",
       "   gender  senior_citizen partner dependents  tenure phone_service  ...  \\\n",
       "0  Female               0     Yes        Yes       9           Yes  ...   \n",
       "1    Male               0      No         No       9           Yes  ...   \n",
       "\n",
       "  tech_support streaming_tv streaming_movies paperless_billing  \\\n",
       "0          Yes          Yes               No               Yes   \n",
       "1           No           No              Yes                No   \n",
       "\n",
       "  monthly_charges total_charges churn internet_service_type  payment_type  \\\n",
       "0            65.6         593.3    No                   DSL  Mailed check   \n",
       "1            59.9         542.4    No                   DSL  Mailed check   \n",
       "\n",
       "    contract_type  \n",
       "0        One year  \n",
       "1  Month-to-month  \n",
       "\n",
       "[2 rows x 24 columns]"
      ]
     },
     "execution_count": 11,
     "metadata": {},
     "output_type": "execute_result"
    }
   ],
   "source": [
    "# And also make sure it works from our helper library\n",
    "df = wrangle.get_telco_data()\n",
    "df.head(2)"
   ]
  },
  {
   "cell_type": "markdown",
   "metadata": {},
   "source": [
    "# DS Pipeline Step 2: Preparation"
   ]
  },
  {
   "cell_type": "markdown",
   "metadata": {},
   "source": [
    "There's a lot of columns here, and the dataframe is too wide for our notebook to display it properly. We will want to think about trimming this down, so we'll use python to generate a list programatically and also get some basic information about each column.\n",
    "\n",
    "The first method we'll use is `.info()` which gives us a lot of useful information in one go\n",
    " - The number of entries (rows)\n",
    " - The number of features (columns)\n",
    " - The number of non-null values in each column\n",
    " - The data type (Dtype) of each column"
   ]
  },
  {
   "cell_type": "code",
   "execution_count": 12,
   "metadata": {},
   "outputs": [
    {
     "name": "stdout",
     "output_type": "stream",
     "text": [
      "<class 'pandas.core.frame.DataFrame'>\n",
      "Int64Index: 7043 entries, 0 to 7042\n",
      "Data columns (total 24 columns):\n",
      " #   Column                    Non-Null Count  Dtype  \n",
      "---  ------                    --------------  -----  \n",
      " 0   contract_type_id          7043 non-null   int64  \n",
      " 1   payment_type_id           7043 non-null   int64  \n",
      " 2   internet_service_type_id  7043 non-null   int64  \n",
      " 3   customer_id               7043 non-null   object \n",
      " 4   gender                    7043 non-null   object \n",
      " 5   senior_citizen            7043 non-null   int64  \n",
      " 6   partner                   7043 non-null   object \n",
      " 7   dependents                7043 non-null   object \n",
      " 8   tenure                    7043 non-null   int64  \n",
      " 9   phone_service             7043 non-null   object \n",
      " 10  multiple_lines            7043 non-null   object \n",
      " 11  online_security           7043 non-null   object \n",
      " 12  online_backup             7043 non-null   object \n",
      " 13  device_protection         7043 non-null   object \n",
      " 14  tech_support              7043 non-null   object \n",
      " 15  streaming_tv              7043 non-null   object \n",
      " 16  streaming_movies          7043 non-null   object \n",
      " 17  paperless_billing         7043 non-null   object \n",
      " 18  monthly_charges           7043 non-null   float64\n",
      " 19  total_charges             7043 non-null   object \n",
      " 20  churn                     7043 non-null   object \n",
      " 21  internet_service_type     7043 non-null   object \n",
      " 22  payment_type              7043 non-null   object \n",
      " 23  contract_type             7043 non-null   object \n",
      "dtypes: float64(1), int64(5), object(18)\n",
      "memory usage: 1.3+ MB\n"
     ]
    }
   ],
   "source": [
    "# Use DataFrame.info() to get a list of columns.\n",
    "df.info()"
   ]
  },
  {
   "cell_type": "markdown",
   "metadata": {},
   "source": [
    "The first thing that stands out to me is there seem to be some columns (`'contract_type_id', 'payment_type_id', 'internet_service_type_id'`) that are essentially duplicated.  In fact, we know that they are because they were the columns we used to join when we wrote the SQL query.  We can safely drop those columns."
   ]
  },
  {
   "cell_type": "code",
   "execution_count": 13,
   "metadata": {},
   "outputs": [
    {
     "name": "stdout",
     "output_type": "stream",
     "text": [
      "['customer_id', 'gender', 'senior_citizen', 'partner', 'dependents', 'tenure', 'phone_service', 'multiple_lines', 'online_security', 'online_backup', 'device_protection', 'tech_support', 'streaming_tv', 'streaming_movies', 'paperless_billing', 'monthly_charges', 'total_charges', 'churn', 'internet_service_type', 'payment_type', 'contract_type']\n"
     ]
    }
   ],
   "source": [
    "# Drop columns that just repeat the data in other columns\n",
    "df = df.drop(columns=['contract_type_id', 'payment_type_id', 'internet_service_type_id'])\n",
    "print( df.columns.to_list() )"
   ]
  },
  {
   "cell_type": "markdown",
   "metadata": {},
   "source": [
    "Also from running `.info()` we can see that we are working with 7043 entries. It looks like none of them have null values, but we can't always trust that for its face value.  Stepping through each column and seeing what data lives in them will give us more insight into whethere there are any 'functionally null' values, like blank strings or strings meant to represent a null value in the data.  \n",
    "\n",
    "In this case, because we don't have a data dictionary provided for us and will need to infer it ourselves, going through each column will also give us some insight into what each column is meant to represent."
   ]
  },
  {
   "cell_type": "code",
   "execution_count": 14,
   "metadata": {},
   "outputs": [
    {
     "data": {
      "text/plain": [
       "0002-ORFBO    1\n",
       "6616-AALSR    1\n",
       "6625-UTXEW    1\n",
       "6625-IUTTT    1\n",
       "6625-FLENO    1\n",
       "             ..\n",
       "3352-RICWQ    1\n",
       "3352-ALMCK    1\n",
       "3351-NQLDI    1\n",
       "3351-NGXYI    1\n",
       "9995-HOTOH    1\n",
       "Name: customer_id, Length: 7043, dtype: int64"
      ]
     },
     "execution_count": 14,
     "metadata": {},
     "output_type": "execute_result"
    }
   ],
   "source": [
    "# To make the cell output more manageable later I will focus on the columns that are likely to have a lot of different values first.\n",
    "df.customer_id.value_counts()"
   ]
  },
  {
   "cell_type": "markdown",
   "metadata": {},
   "source": [
    "There doesn't appear to be any null values here, and we can see that each row seems to be unique so we can go ahead and use the column's name to infer the first column of our data dictionary.\n",
    "> **customer_id**: A unique identifier that represents a single customer"
   ]
  },
  {
   "cell_type": "code",
   "execution_count": 15,
   "metadata": {},
   "outputs": [
    {
     "data": {
      "text/plain": [
       "1     613\n",
       "72    362\n",
       "2     238\n",
       "3     200\n",
       "4     176\n",
       "     ... \n",
       "28     57\n",
       "39     56\n",
       "44     51\n",
       "36     50\n",
       "0      11\n",
       "Name: tenure, Length: 73, dtype: int64"
      ]
     },
     "execution_count": 15,
     "metadata": {},
     "output_type": "execute_result"
    }
   ],
   "source": [
    "df.tenure.value_counts()"
   ]
  },
  {
   "cell_type": "markdown",
   "metadata": {},
   "source": [
    "This one requires a bit more thought to decipher.  Looking up the dictionary definition for \"tenure\" we can find a defintion of \"a period for which an office is held\".  Because none of the other definitions make sense for a telecom company and wouldn't be stored as an integer it can be assumed that tenure is meant to be a measure of how long a customer has been with the company.\n",
    "\n",
    "Since I don't imagine a single customer having a tenure of 613 years, and it would be resource intensive to update a database each day with the new values, we can infer this columns as:\n",
    "> **tenure**: The number of months a customer has been a customer."
   ]
  },
  {
   "cell_type": "code",
   "execution_count": 16,
   "metadata": {},
   "outputs": [
    {
     "data": {
      "text/plain": [
       "20.05     61\n",
       "19.85     45\n",
       "19.95     44\n",
       "19.90     44\n",
       "20.00     43\n",
       "          ..\n",
       "116.55     1\n",
       "106.85     1\n",
       "68.55      1\n",
       "108.80     1\n",
       "67.85      1\n",
       "Name: monthly_charges, Length: 1585, dtype: int64"
      ]
     },
     "execution_count": 16,
     "metadata": {},
     "output_type": "execute_result"
    }
   ],
   "source": [
    "df.monthly_charges.value_counts()"
   ]
  },
  {
   "cell_type": "markdown",
   "metadata": {},
   "source": [
    "This is a float variable with lots of different values.  It's safe to assume it is what it says on the tin:\n",
    "> **monthly_charges**: The amount a customer is charged each month"
   ]
  },
  {
   "cell_type": "code",
   "execution_count": 17,
   "metadata": {},
   "outputs": [
    {
     "data": {
      "text/plain": [
       "           11\n",
       "20.2       11\n",
       "19.75       9\n",
       "19.9        8\n",
       "20.05       8\n",
       "           ..\n",
       "2387.75     1\n",
       "6302.8      1\n",
       "2058.5      1\n",
       "829.55      1\n",
       "3707.6      1\n",
       "Name: total_charges, Length: 6531, dtype: int64"
      ]
     },
     "execution_count": 17,
     "metadata": {},
     "output_type": "execute_result"
    }
   ],
   "source": [
    "df.total_charges.value_counts()"
   ]
  },
  {
   "cell_type": "markdown",
   "metadata": {},
   "source": [
    "**Hold up!**  \n",
    "It's easy to miss it, but did you see what happened here?  \n",
    "There are 11 values that appear to be blank.  This is because SQL returned those null values as empty strings, which is technically not a null value.\n",
    "\n",
    "Because these 11 rows are such a small part of our dataset it's easy to say that we can just drop them.  But I'd like to take a closer look at them to see if there is any information to be gleaned from this abnormality, especially since the rest of the dataset seems so well maintained."
   ]
  },
  {
   "cell_type": "code",
   "execution_count": 18,
   "metadata": {},
   "outputs": [
    {
     "data": {
      "text/html": [
       "<div>\n",
       "<style scoped>\n",
       "    .dataframe tbody tr th:only-of-type {\n",
       "        vertical-align: middle;\n",
       "    }\n",
       "\n",
       "    .dataframe tbody tr th {\n",
       "        vertical-align: top;\n",
       "    }\n",
       "\n",
       "    .dataframe thead th {\n",
       "        text-align: right;\n",
       "    }\n",
       "</style>\n",
       "<table border=\"1\" class=\"dataframe\">\n",
       "  <thead>\n",
       "    <tr style=\"text-align: right;\">\n",
       "      <th></th>\n",
       "      <th>customer_id</th>\n",
       "      <th>gender</th>\n",
       "      <th>senior_citizen</th>\n",
       "      <th>partner</th>\n",
       "      <th>dependents</th>\n",
       "      <th>tenure</th>\n",
       "      <th>phone_service</th>\n",
       "      <th>multiple_lines</th>\n",
       "      <th>online_security</th>\n",
       "      <th>online_backup</th>\n",
       "      <th>...</th>\n",
       "      <th>tech_support</th>\n",
       "      <th>streaming_tv</th>\n",
       "      <th>streaming_movies</th>\n",
       "      <th>paperless_billing</th>\n",
       "      <th>monthly_charges</th>\n",
       "      <th>total_charges</th>\n",
       "      <th>churn</th>\n",
       "      <th>internet_service_type</th>\n",
       "      <th>payment_type</th>\n",
       "      <th>contract_type</th>\n",
       "    </tr>\n",
       "  </thead>\n",
       "  <tbody>\n",
       "    <tr>\n",
       "      <th>945</th>\n",
       "      <td>1371-DWPAZ</td>\n",
       "      <td>Female</td>\n",
       "      <td>0</td>\n",
       "      <td>Yes</td>\n",
       "      <td>Yes</td>\n",
       "      <td>0</td>\n",
       "      <td>No</td>\n",
       "      <td>No phone service</td>\n",
       "      <td>Yes</td>\n",
       "      <td>Yes</td>\n",
       "      <td>...</td>\n",
       "      <td>Yes</td>\n",
       "      <td>Yes</td>\n",
       "      <td>No</td>\n",
       "      <td>No</td>\n",
       "      <td>56.05</td>\n",
       "      <td></td>\n",
       "      <td>No</td>\n",
       "      <td>DSL</td>\n",
       "      <td>Credit card (automatic)</td>\n",
       "      <td>Two year</td>\n",
       "    </tr>\n",
       "    <tr>\n",
       "      <th>1731</th>\n",
       "      <td>2520-SGTTA</td>\n",
       "      <td>Female</td>\n",
       "      <td>0</td>\n",
       "      <td>Yes</td>\n",
       "      <td>Yes</td>\n",
       "      <td>0</td>\n",
       "      <td>Yes</td>\n",
       "      <td>No</td>\n",
       "      <td>No internet service</td>\n",
       "      <td>No internet service</td>\n",
       "      <td>...</td>\n",
       "      <td>No internet service</td>\n",
       "      <td>No internet service</td>\n",
       "      <td>No internet service</td>\n",
       "      <td>No</td>\n",
       "      <td>20.00</td>\n",
       "      <td></td>\n",
       "      <td>No</td>\n",
       "      <td>None</td>\n",
       "      <td>Mailed check</td>\n",
       "      <td>Two year</td>\n",
       "    </tr>\n",
       "    <tr>\n",
       "      <th>1906</th>\n",
       "      <td>2775-SEFEE</td>\n",
       "      <td>Male</td>\n",
       "      <td>0</td>\n",
       "      <td>No</td>\n",
       "      <td>Yes</td>\n",
       "      <td>0</td>\n",
       "      <td>Yes</td>\n",
       "      <td>Yes</td>\n",
       "      <td>Yes</td>\n",
       "      <td>Yes</td>\n",
       "      <td>...</td>\n",
       "      <td>Yes</td>\n",
       "      <td>No</td>\n",
       "      <td>No</td>\n",
       "      <td>Yes</td>\n",
       "      <td>61.90</td>\n",
       "      <td></td>\n",
       "      <td>No</td>\n",
       "      <td>DSL</td>\n",
       "      <td>Bank transfer (automatic)</td>\n",
       "      <td>Two year</td>\n",
       "    </tr>\n",
       "    <tr>\n",
       "      <th>2025</th>\n",
       "      <td>2923-ARZLG</td>\n",
       "      <td>Male</td>\n",
       "      <td>0</td>\n",
       "      <td>Yes</td>\n",
       "      <td>Yes</td>\n",
       "      <td>0</td>\n",
       "      <td>Yes</td>\n",
       "      <td>No</td>\n",
       "      <td>No internet service</td>\n",
       "      <td>No internet service</td>\n",
       "      <td>...</td>\n",
       "      <td>No internet service</td>\n",
       "      <td>No internet service</td>\n",
       "      <td>No internet service</td>\n",
       "      <td>Yes</td>\n",
       "      <td>19.70</td>\n",
       "      <td></td>\n",
       "      <td>No</td>\n",
       "      <td>None</td>\n",
       "      <td>Mailed check</td>\n",
       "      <td>One year</td>\n",
       "    </tr>\n",
       "    <tr>\n",
       "      <th>2176</th>\n",
       "      <td>3115-CZMZD</td>\n",
       "      <td>Male</td>\n",
       "      <td>0</td>\n",
       "      <td>No</td>\n",
       "      <td>Yes</td>\n",
       "      <td>0</td>\n",
       "      <td>Yes</td>\n",
       "      <td>No</td>\n",
       "      <td>No internet service</td>\n",
       "      <td>No internet service</td>\n",
       "      <td>...</td>\n",
       "      <td>No internet service</td>\n",
       "      <td>No internet service</td>\n",
       "      <td>No internet service</td>\n",
       "      <td>No</td>\n",
       "      <td>20.25</td>\n",
       "      <td></td>\n",
       "      <td>No</td>\n",
       "      <td>None</td>\n",
       "      <td>Mailed check</td>\n",
       "      <td>Two year</td>\n",
       "    </tr>\n",
       "    <tr>\n",
       "      <th>2250</th>\n",
       "      <td>3213-VVOLG</td>\n",
       "      <td>Male</td>\n",
       "      <td>0</td>\n",
       "      <td>Yes</td>\n",
       "      <td>Yes</td>\n",
       "      <td>0</td>\n",
       "      <td>Yes</td>\n",
       "      <td>Yes</td>\n",
       "      <td>No internet service</td>\n",
       "      <td>No internet service</td>\n",
       "      <td>...</td>\n",
       "      <td>No internet service</td>\n",
       "      <td>No internet service</td>\n",
       "      <td>No internet service</td>\n",
       "      <td>No</td>\n",
       "      <td>25.35</td>\n",
       "      <td></td>\n",
       "      <td>No</td>\n",
       "      <td>None</td>\n",
       "      <td>Mailed check</td>\n",
       "      <td>Two year</td>\n",
       "    </tr>\n",
       "    <tr>\n",
       "      <th>2855</th>\n",
       "      <td>4075-WKNIU</td>\n",
       "      <td>Female</td>\n",
       "      <td>0</td>\n",
       "      <td>Yes</td>\n",
       "      <td>Yes</td>\n",
       "      <td>0</td>\n",
       "      <td>Yes</td>\n",
       "      <td>Yes</td>\n",
       "      <td>No</td>\n",
       "      <td>Yes</td>\n",
       "      <td>...</td>\n",
       "      <td>Yes</td>\n",
       "      <td>Yes</td>\n",
       "      <td>No</td>\n",
       "      <td>No</td>\n",
       "      <td>73.35</td>\n",
       "      <td></td>\n",
       "      <td>No</td>\n",
       "      <td>DSL</td>\n",
       "      <td>Mailed check</td>\n",
       "      <td>Two year</td>\n",
       "    </tr>\n",
       "    <tr>\n",
       "      <th>3052</th>\n",
       "      <td>4367-NUYAO</td>\n",
       "      <td>Male</td>\n",
       "      <td>0</td>\n",
       "      <td>Yes</td>\n",
       "      <td>Yes</td>\n",
       "      <td>0</td>\n",
       "      <td>Yes</td>\n",
       "      <td>Yes</td>\n",
       "      <td>No internet service</td>\n",
       "      <td>No internet service</td>\n",
       "      <td>...</td>\n",
       "      <td>No internet service</td>\n",
       "      <td>No internet service</td>\n",
       "      <td>No internet service</td>\n",
       "      <td>No</td>\n",
       "      <td>25.75</td>\n",
       "      <td></td>\n",
       "      <td>No</td>\n",
       "      <td>None</td>\n",
       "      <td>Mailed check</td>\n",
       "      <td>Two year</td>\n",
       "    </tr>\n",
       "    <tr>\n",
       "      <th>3118</th>\n",
       "      <td>4472-LVYGI</td>\n",
       "      <td>Female</td>\n",
       "      <td>0</td>\n",
       "      <td>Yes</td>\n",
       "      <td>Yes</td>\n",
       "      <td>0</td>\n",
       "      <td>No</td>\n",
       "      <td>No phone service</td>\n",
       "      <td>Yes</td>\n",
       "      <td>No</td>\n",
       "      <td>...</td>\n",
       "      <td>Yes</td>\n",
       "      <td>Yes</td>\n",
       "      <td>No</td>\n",
       "      <td>Yes</td>\n",
       "      <td>52.55</td>\n",
       "      <td></td>\n",
       "      <td>No</td>\n",
       "      <td>DSL</td>\n",
       "      <td>Bank transfer (automatic)</td>\n",
       "      <td>Two year</td>\n",
       "    </tr>\n",
       "    <tr>\n",
       "      <th>4054</th>\n",
       "      <td>5709-LVOEQ</td>\n",
       "      <td>Female</td>\n",
       "      <td>0</td>\n",
       "      <td>Yes</td>\n",
       "      <td>Yes</td>\n",
       "      <td>0</td>\n",
       "      <td>Yes</td>\n",
       "      <td>No</td>\n",
       "      <td>Yes</td>\n",
       "      <td>Yes</td>\n",
       "      <td>...</td>\n",
       "      <td>No</td>\n",
       "      <td>Yes</td>\n",
       "      <td>Yes</td>\n",
       "      <td>No</td>\n",
       "      <td>80.85</td>\n",
       "      <td></td>\n",
       "      <td>No</td>\n",
       "      <td>DSL</td>\n",
       "      <td>Mailed check</td>\n",
       "      <td>Two year</td>\n",
       "    </tr>\n",
       "    <tr>\n",
       "      <th>5433</th>\n",
       "      <td>7644-OMVMY</td>\n",
       "      <td>Male</td>\n",
       "      <td>0</td>\n",
       "      <td>Yes</td>\n",
       "      <td>Yes</td>\n",
       "      <td>0</td>\n",
       "      <td>Yes</td>\n",
       "      <td>No</td>\n",
       "      <td>No internet service</td>\n",
       "      <td>No internet service</td>\n",
       "      <td>...</td>\n",
       "      <td>No internet service</td>\n",
       "      <td>No internet service</td>\n",
       "      <td>No internet service</td>\n",
       "      <td>No</td>\n",
       "      <td>19.85</td>\n",
       "      <td></td>\n",
       "      <td>No</td>\n",
       "      <td>None</td>\n",
       "      <td>Mailed check</td>\n",
       "      <td>Two year</td>\n",
       "    </tr>\n",
       "  </tbody>\n",
       "</table>\n",
       "<p>11 rows × 21 columns</p>\n",
       "</div>"
      ],
      "text/plain": [
       "     customer_id  gender  senior_citizen partner dependents  tenure  \\\n",
       "945   1371-DWPAZ  Female               0     Yes        Yes       0   \n",
       "1731  2520-SGTTA  Female               0     Yes        Yes       0   \n",
       "1906  2775-SEFEE    Male               0      No        Yes       0   \n",
       "2025  2923-ARZLG    Male               0     Yes        Yes       0   \n",
       "2176  3115-CZMZD    Male               0      No        Yes       0   \n",
       "2250  3213-VVOLG    Male               0     Yes        Yes       0   \n",
       "2855  4075-WKNIU  Female               0     Yes        Yes       0   \n",
       "3052  4367-NUYAO    Male               0     Yes        Yes       0   \n",
       "3118  4472-LVYGI  Female               0     Yes        Yes       0   \n",
       "4054  5709-LVOEQ  Female               0     Yes        Yes       0   \n",
       "5433  7644-OMVMY    Male               0     Yes        Yes       0   \n",
       "\n",
       "     phone_service    multiple_lines      online_security  \\\n",
       "945             No  No phone service                  Yes   \n",
       "1731           Yes                No  No internet service   \n",
       "1906           Yes               Yes                  Yes   \n",
       "2025           Yes                No  No internet service   \n",
       "2176           Yes                No  No internet service   \n",
       "2250           Yes               Yes  No internet service   \n",
       "2855           Yes               Yes                   No   \n",
       "3052           Yes               Yes  No internet service   \n",
       "3118            No  No phone service                  Yes   \n",
       "4054           Yes                No                  Yes   \n",
       "5433           Yes                No  No internet service   \n",
       "\n",
       "            online_backup  ...         tech_support         streaming_tv  \\\n",
       "945                   Yes  ...                  Yes                  Yes   \n",
       "1731  No internet service  ...  No internet service  No internet service   \n",
       "1906                  Yes  ...                  Yes                   No   \n",
       "2025  No internet service  ...  No internet service  No internet service   \n",
       "2176  No internet service  ...  No internet service  No internet service   \n",
       "2250  No internet service  ...  No internet service  No internet service   \n",
       "2855                  Yes  ...                  Yes                  Yes   \n",
       "3052  No internet service  ...  No internet service  No internet service   \n",
       "3118                   No  ...                  Yes                  Yes   \n",
       "4054                  Yes  ...                   No                  Yes   \n",
       "5433  No internet service  ...  No internet service  No internet service   \n",
       "\n",
       "         streaming_movies paperless_billing monthly_charges  total_charges  \\\n",
       "945                    No                No           56.05                  \n",
       "1731  No internet service                No           20.00                  \n",
       "1906                   No               Yes           61.90                  \n",
       "2025  No internet service               Yes           19.70                  \n",
       "2176  No internet service                No           20.25                  \n",
       "2250  No internet service                No           25.35                  \n",
       "2855                   No                No           73.35                  \n",
       "3052  No internet service                No           25.75                  \n",
       "3118                   No               Yes           52.55                  \n",
       "4054                  Yes                No           80.85                  \n",
       "5433  No internet service                No           19.85                  \n",
       "\n",
       "     churn internet_service_type               payment_type contract_type  \n",
       "945     No                   DSL    Credit card (automatic)      Two year  \n",
       "1731    No                  None               Mailed check      Two year  \n",
       "1906    No                   DSL  Bank transfer (automatic)      Two year  \n",
       "2025    No                  None               Mailed check      One year  \n",
       "2176    No                  None               Mailed check      Two year  \n",
       "2250    No                  None               Mailed check      Two year  \n",
       "2855    No                   DSL               Mailed check      Two year  \n",
       "3052    No                  None               Mailed check      Two year  \n",
       "3118    No                   DSL  Bank transfer (automatic)      Two year  \n",
       "4054    No                   DSL               Mailed check      Two year  \n",
       "5433    No                  None               Mailed check      Two year  \n",
       "\n",
       "[11 rows x 21 columns]"
      ]
     },
     "execution_count": 18,
     "metadata": {},
     "output_type": "execute_result"
    }
   ],
   "source": [
    "# Get a list of all customers where total charges is a single space\n",
    "mask = (df.total_charges == ' ')\n",
    "df[mask]"
   ]
  },
  {
   "cell_type": "markdown",
   "metadata": {},
   "source": [
    "Each of these customers have a tenure of 0.  It makes sense that their total charges would be 0 if they haven't been around long enough to be charged.  \n",
    "Do these customers make up the entirety of the new customers?"
   ]
  },
  {
   "cell_type": "code",
   "execution_count": 19,
   "metadata": {},
   "outputs": [
    {
     "data": {
      "text/plain": [
       "11"
      ]
     },
     "execution_count": 19,
     "metadata": {},
     "output_type": "execute_result"
    }
   ],
   "source": [
    "# Get the number of customers with 0 tenure.\n",
    "(df.tenure == 0).sum()"
   ]
  },
  {
   "cell_type": "markdown",
   "metadata": {},
   "source": [
    "Yes they do.  To fix this we can replace the missing values with 0."
   ]
  },
  {
   "cell_type": "code",
   "execution_count": 20,
   "metadata": {},
   "outputs": [],
   "source": [
    "# Replaces the spaces in total_charges with a 0 and sets the column's type to a float\n",
    "df.total_charges = df.total_charges.replace(' ', 0).astype(np.float64)"
   ]
  },
  {
   "cell_type": "markdown",
   "metadata": {},
   "source": [
    "And finally we can infer the description for this column:\n",
    "> **total_charges**: The total amount that has been charged to a customer over their tenure"
   ]
  },
  {
   "cell_type": "markdown",
   "metadata": {},
   "source": [
    "There are still a lot of columns remaining, and doing them all one at a time would take a long time.  To save time we'll loop through all of the remaining columns and look at their value counts."
   ]
  },
  {
   "cell_type": "code",
   "execution_count": 21,
   "metadata": {},
   "outputs": [
    {
     "name": "stdout",
     "output_type": "stream",
     "text": [
      "Male      3555\n",
      "Female    3488\n",
      "Name: gender, dtype: int64 \n",
      "\n",
      "0    5901\n",
      "1    1142\n",
      "Name: senior_citizen, dtype: int64 \n",
      "\n",
      "No     3641\n",
      "Yes    3402\n",
      "Name: partner, dtype: int64 \n",
      "\n",
      "No     4933\n",
      "Yes    2110\n",
      "Name: dependents, dtype: int64 \n",
      "\n",
      "Yes    6361\n",
      "No      682\n",
      "Name: phone_service, dtype: int64 \n",
      "\n",
      "No                  3390\n",
      "Yes                 2971\n",
      "No phone service     682\n",
      "Name: multiple_lines, dtype: int64 \n",
      "\n",
      "No                     3498\n",
      "Yes                    2019\n",
      "No internet service    1526\n",
      "Name: online_security, dtype: int64 \n",
      "\n",
      "No                     3088\n",
      "Yes                    2429\n",
      "No internet service    1526\n",
      "Name: online_backup, dtype: int64 \n",
      "\n",
      "No                     3095\n",
      "Yes                    2422\n",
      "No internet service    1526\n",
      "Name: device_protection, dtype: int64 \n",
      "\n",
      "No                     3473\n",
      "Yes                    2044\n",
      "No internet service    1526\n",
      "Name: tech_support, dtype: int64 \n",
      "\n",
      "No                     2810\n",
      "Yes                    2707\n",
      "No internet service    1526\n",
      "Name: streaming_tv, dtype: int64 \n",
      "\n",
      "No                     2785\n",
      "Yes                    2732\n",
      "No internet service    1526\n",
      "Name: streaming_movies, dtype: int64 \n",
      "\n",
      "Yes    4171\n",
      "No     2872\n",
      "Name: paperless_billing, dtype: int64 \n",
      "\n",
      "No     5174\n",
      "Yes    1869\n",
      "Name: churn, dtype: int64 \n",
      "\n",
      "Fiber optic    3096\n",
      "DSL            2421\n",
      "None           1526\n",
      "Name: internet_service_type, dtype: int64 \n",
      "\n",
      "Electronic check             2365\n",
      "Mailed check                 1612\n",
      "Bank transfer (automatic)    1544\n",
      "Credit card (automatic)      1522\n",
      "Name: payment_type, dtype: int64 \n",
      "\n",
      "Month-to-month    3875\n",
      "Two year          1695\n",
      "One year          1473\n",
      "Name: contract_type, dtype: int64 \n",
      "\n"
     ]
    }
   ],
   "source": [
    "columns_to_skip = ['customer_id','tenure','monthly_charges','total_charges']\n",
    "\n",
    "#Loop through each column in the dataframe, and if we haven't done them already, print their value counts.\n",
    "for col in df:\n",
    "    if col not in columns_to_skip:\n",
    "        print(df[col].value_counts(), '\\n')"
   ]
  },
  {
   "cell_type": "markdown",
   "metadata": {},
   "source": [
    "Most of the remaining columns can be retyped into booleans, which tend to work better with machine learning models.  There are some columns that in addition to the Yes/No values there is a value determining whether the customer has the appropriate internet service or phone service for the column to be applicable.  However, we can already infer that information from the `phone_service` and `internet_service_type` columns.  Therefore we can convert all of the remaining columns, with the exception of `internet_service_type`, `payment_type`, and `contract_type` into boolean columns."
   ]
  },
  {
   "cell_type": "code",
   "execution_count": 22,
   "metadata": {},
   "outputs": [],
   "source": [
    "# Convert the senior citizen column into boolean type.\n",
    "# We want to handle this one separetely because unlike the others, it uses 1's and 0's instead of Yes/No\n",
    "df.senior_citizen = df.senior_citizen == 1\n",
    "# Do something similar with gender\n",
    "df.gender = df.gender == 'Male'\n",
    "# Also rename the gender column to make it more intuitive to read later.\n",
    "df.rename(columns={'gender': 'is_male'}, inplace=True)\n"
   ]
  },
  {
   "cell_type": "code",
   "execution_count": 23,
   "metadata": {},
   "outputs": [],
   "source": [
    "# Loop through the yes/no columns and convert them to booleans.\n",
    "yes_no_columns = [ 'partner',\n",
    "                    'dependents',\n",
    "                    'phone_service',\n",
    "                    'multiple_lines',\n",
    "                    'online_security',\n",
    "                    'online_backup',\n",
    "                    'device_protection',\n",
    "                    'tech_support',\n",
    "                    'streaming_tv',\n",
    "                    'streaming_movies',\n",
    "                    'paperless_billing',\n",
    "                    'churn'\n",
    "                    ]\n",
    "for column in yes_no_columns:\n",
    "    df[column] = df[column] == \"Yes\""
   ]
  },
  {
   "cell_type": "code",
   "execution_count": 24,
   "metadata": {},
   "outputs": [
    {
     "data": {
      "text/html": [
       "<div>\n",
       "<style scoped>\n",
       "    .dataframe tbody tr th:only-of-type {\n",
       "        vertical-align: middle;\n",
       "    }\n",
       "\n",
       "    .dataframe tbody tr th {\n",
       "        vertical-align: top;\n",
       "    }\n",
       "\n",
       "    .dataframe thead th {\n",
       "        text-align: right;\n",
       "    }\n",
       "</style>\n",
       "<table border=\"1\" class=\"dataframe\">\n",
       "  <thead>\n",
       "    <tr style=\"text-align: right;\">\n",
       "      <th></th>\n",
       "      <th>customer_id</th>\n",
       "      <th>is_male</th>\n",
       "      <th>senior_citizen</th>\n",
       "      <th>partner</th>\n",
       "      <th>dependents</th>\n",
       "      <th>tenure</th>\n",
       "      <th>phone_service</th>\n",
       "      <th>multiple_lines</th>\n",
       "      <th>online_security</th>\n",
       "      <th>online_backup</th>\n",
       "      <th>...</th>\n",
       "      <th>tech_support</th>\n",
       "      <th>streaming_tv</th>\n",
       "      <th>streaming_movies</th>\n",
       "      <th>paperless_billing</th>\n",
       "      <th>monthly_charges</th>\n",
       "      <th>total_charges</th>\n",
       "      <th>churn</th>\n",
       "      <th>internet_service_type</th>\n",
       "      <th>payment_type</th>\n",
       "      <th>contract_type</th>\n",
       "    </tr>\n",
       "  </thead>\n",
       "  <tbody>\n",
       "    <tr>\n",
       "      <th>0</th>\n",
       "      <td>0002-ORFBO</td>\n",
       "      <td>False</td>\n",
       "      <td>False</td>\n",
       "      <td>True</td>\n",
       "      <td>True</td>\n",
       "      <td>9</td>\n",
       "      <td>True</td>\n",
       "      <td>False</td>\n",
       "      <td>False</td>\n",
       "      <td>True</td>\n",
       "      <td>...</td>\n",
       "      <td>True</td>\n",
       "      <td>True</td>\n",
       "      <td>False</td>\n",
       "      <td>True</td>\n",
       "      <td>65.6</td>\n",
       "      <td>593.30</td>\n",
       "      <td>False</td>\n",
       "      <td>DSL</td>\n",
       "      <td>Mailed check</td>\n",
       "      <td>One year</td>\n",
       "    </tr>\n",
       "    <tr>\n",
       "      <th>1</th>\n",
       "      <td>0003-MKNFE</td>\n",
       "      <td>True</td>\n",
       "      <td>False</td>\n",
       "      <td>False</td>\n",
       "      <td>False</td>\n",
       "      <td>9</td>\n",
       "      <td>True</td>\n",
       "      <td>True</td>\n",
       "      <td>False</td>\n",
       "      <td>False</td>\n",
       "      <td>...</td>\n",
       "      <td>False</td>\n",
       "      <td>False</td>\n",
       "      <td>True</td>\n",
       "      <td>False</td>\n",
       "      <td>59.9</td>\n",
       "      <td>542.40</td>\n",
       "      <td>False</td>\n",
       "      <td>DSL</td>\n",
       "      <td>Mailed check</td>\n",
       "      <td>Month-to-month</td>\n",
       "    </tr>\n",
       "    <tr>\n",
       "      <th>2</th>\n",
       "      <td>0004-TLHLJ</td>\n",
       "      <td>True</td>\n",
       "      <td>False</td>\n",
       "      <td>False</td>\n",
       "      <td>False</td>\n",
       "      <td>4</td>\n",
       "      <td>True</td>\n",
       "      <td>False</td>\n",
       "      <td>False</td>\n",
       "      <td>False</td>\n",
       "      <td>...</td>\n",
       "      <td>False</td>\n",
       "      <td>False</td>\n",
       "      <td>False</td>\n",
       "      <td>True</td>\n",
       "      <td>73.9</td>\n",
       "      <td>280.85</td>\n",
       "      <td>True</td>\n",
       "      <td>Fiber optic</td>\n",
       "      <td>Electronic check</td>\n",
       "      <td>Month-to-month</td>\n",
       "    </tr>\n",
       "    <tr>\n",
       "      <th>3</th>\n",
       "      <td>0011-IGKFF</td>\n",
       "      <td>True</td>\n",
       "      <td>True</td>\n",
       "      <td>True</td>\n",
       "      <td>False</td>\n",
       "      <td>13</td>\n",
       "      <td>True</td>\n",
       "      <td>False</td>\n",
       "      <td>False</td>\n",
       "      <td>True</td>\n",
       "      <td>...</td>\n",
       "      <td>False</td>\n",
       "      <td>True</td>\n",
       "      <td>True</td>\n",
       "      <td>True</td>\n",
       "      <td>98.0</td>\n",
       "      <td>1237.85</td>\n",
       "      <td>True</td>\n",
       "      <td>Fiber optic</td>\n",
       "      <td>Electronic check</td>\n",
       "      <td>Month-to-month</td>\n",
       "    </tr>\n",
       "    <tr>\n",
       "      <th>4</th>\n",
       "      <td>0013-EXCHZ</td>\n",
       "      <td>False</td>\n",
       "      <td>True</td>\n",
       "      <td>True</td>\n",
       "      <td>False</td>\n",
       "      <td>3</td>\n",
       "      <td>True</td>\n",
       "      <td>False</td>\n",
       "      <td>False</td>\n",
       "      <td>False</td>\n",
       "      <td>...</td>\n",
       "      <td>True</td>\n",
       "      <td>True</td>\n",
       "      <td>False</td>\n",
       "      <td>True</td>\n",
       "      <td>83.9</td>\n",
       "      <td>267.40</td>\n",
       "      <td>True</td>\n",
       "      <td>Fiber optic</td>\n",
       "      <td>Mailed check</td>\n",
       "      <td>Month-to-month</td>\n",
       "    </tr>\n",
       "  </tbody>\n",
       "</table>\n",
       "<p>5 rows × 21 columns</p>\n",
       "</div>"
      ],
      "text/plain": [
       "  customer_id  is_male  senior_citizen  partner  dependents  tenure  \\\n",
       "0  0002-ORFBO    False           False     True        True       9   \n",
       "1  0003-MKNFE     True           False    False       False       9   \n",
       "2  0004-TLHLJ     True           False    False       False       4   \n",
       "3  0011-IGKFF     True            True     True       False      13   \n",
       "4  0013-EXCHZ    False            True     True       False       3   \n",
       "\n",
       "   phone_service  multiple_lines  online_security  online_backup  ...  \\\n",
       "0           True           False            False           True  ...   \n",
       "1           True            True            False          False  ...   \n",
       "2           True           False            False          False  ...   \n",
       "3           True           False            False           True  ...   \n",
       "4           True           False            False          False  ...   \n",
       "\n",
       "   tech_support  streaming_tv  streaming_movies  paperless_billing  \\\n",
       "0          True          True             False               True   \n",
       "1         False         False              True              False   \n",
       "2         False         False             False               True   \n",
       "3         False          True              True               True   \n",
       "4          True          True             False               True   \n",
       "\n",
       "   monthly_charges  total_charges  churn  internet_service_type  \\\n",
       "0             65.6         593.30  False                    DSL   \n",
       "1             59.9         542.40  False                    DSL   \n",
       "2             73.9         280.85   True            Fiber optic   \n",
       "3             98.0        1237.85   True            Fiber optic   \n",
       "4             83.9         267.40   True            Fiber optic   \n",
       "\n",
       "       payment_type   contract_type  \n",
       "0      Mailed check        One year  \n",
       "1      Mailed check  Month-to-month  \n",
       "2  Electronic check  Month-to-month  \n",
       "3  Electronic check  Month-to-month  \n",
       "4      Mailed check  Month-to-month  \n",
       "\n",
       "[5 rows x 21 columns]"
      ]
     },
     "execution_count": 24,
     "metadata": {},
     "output_type": "execute_result"
    }
   ],
   "source": [
    "# Make sure all of the transformations look how we expect\n",
    "df.head(5)"
   ]
  },
  {
   "cell_type": "markdown",
   "metadata": {},
   "source": [
    "So far we've made a fair amount of transformations to the data and now we have a dataframe that's ready for exploration.  Let's take a moment to compile into a function and add it to the `wrangle.py` file."
   ]
  },
  {
   "cell_type": "code",
   "execution_count": 25,
   "metadata": {},
   "outputs": [
    {
     "data": {
      "text/html": [
       "<div>\n",
       "<style scoped>\n",
       "    .dataframe tbody tr th:only-of-type {\n",
       "        vertical-align: middle;\n",
       "    }\n",
       "\n",
       "    .dataframe tbody tr th {\n",
       "        vertical-align: top;\n",
       "    }\n",
       "\n",
       "    .dataframe thead th {\n",
       "        text-align: right;\n",
       "    }\n",
       "</style>\n",
       "<table border=\"1\" class=\"dataframe\">\n",
       "  <thead>\n",
       "    <tr style=\"text-align: right;\">\n",
       "      <th></th>\n",
       "      <th>customer_id</th>\n",
       "      <th>is_male</th>\n",
       "      <th>senior_citizen</th>\n",
       "      <th>partner</th>\n",
       "      <th>dependents</th>\n",
       "      <th>tenure</th>\n",
       "      <th>phone_service</th>\n",
       "      <th>multiple_lines</th>\n",
       "      <th>online_security</th>\n",
       "      <th>online_backup</th>\n",
       "      <th>...</th>\n",
       "      <th>tech_support</th>\n",
       "      <th>streaming_tv</th>\n",
       "      <th>streaming_movies</th>\n",
       "      <th>paperless_billing</th>\n",
       "      <th>monthly_charges</th>\n",
       "      <th>total_charges</th>\n",
       "      <th>churn</th>\n",
       "      <th>internet_service_type</th>\n",
       "      <th>payment_type</th>\n",
       "      <th>contract_type</th>\n",
       "    </tr>\n",
       "  </thead>\n",
       "  <tbody>\n",
       "    <tr>\n",
       "      <th>0</th>\n",
       "      <td>0002-ORFBO</td>\n",
       "      <td>False</td>\n",
       "      <td>False</td>\n",
       "      <td>True</td>\n",
       "      <td>True</td>\n",
       "      <td>9</td>\n",
       "      <td>True</td>\n",
       "      <td>False</td>\n",
       "      <td>False</td>\n",
       "      <td>True</td>\n",
       "      <td>...</td>\n",
       "      <td>True</td>\n",
       "      <td>True</td>\n",
       "      <td>False</td>\n",
       "      <td>True</td>\n",
       "      <td>65.6</td>\n",
       "      <td>593.3</td>\n",
       "      <td>False</td>\n",
       "      <td>DSL</td>\n",
       "      <td>Mailed check</td>\n",
       "      <td>One year</td>\n",
       "    </tr>\n",
       "    <tr>\n",
       "      <th>1</th>\n",
       "      <td>0003-MKNFE</td>\n",
       "      <td>True</td>\n",
       "      <td>False</td>\n",
       "      <td>False</td>\n",
       "      <td>False</td>\n",
       "      <td>9</td>\n",
       "      <td>True</td>\n",
       "      <td>True</td>\n",
       "      <td>False</td>\n",
       "      <td>False</td>\n",
       "      <td>...</td>\n",
       "      <td>False</td>\n",
       "      <td>False</td>\n",
       "      <td>True</td>\n",
       "      <td>False</td>\n",
       "      <td>59.9</td>\n",
       "      <td>542.4</td>\n",
       "      <td>False</td>\n",
       "      <td>DSL</td>\n",
       "      <td>Mailed check</td>\n",
       "      <td>Month-to-month</td>\n",
       "    </tr>\n",
       "  </tbody>\n",
       "</table>\n",
       "<p>2 rows × 21 columns</p>\n",
       "</div>"
      ],
      "text/plain": [
       "  customer_id  is_male  senior_citizen  partner  dependents  tenure  \\\n",
       "0  0002-ORFBO    False           False     True        True       9   \n",
       "1  0003-MKNFE     True           False    False       False       9   \n",
       "\n",
       "   phone_service  multiple_lines  online_security  online_backup  ...  \\\n",
       "0           True           False            False           True  ...   \n",
       "1           True            True            False          False  ...   \n",
       "\n",
       "   tech_support  streaming_tv  streaming_movies  paperless_billing  \\\n",
       "0          True          True             False               True   \n",
       "1         False         False              True              False   \n",
       "\n",
       "   monthly_charges  total_charges  churn  internet_service_type  payment_type  \\\n",
       "0             65.6          593.3  False                    DSL  Mailed check   \n",
       "1             59.9          542.4  False                    DSL  Mailed check   \n",
       "\n",
       "    contract_type  \n",
       "0        One year  \n",
       "1  Month-to-month  \n",
       "\n",
       "[2 rows x 21 columns]"
      ]
     },
     "execution_count": 25,
     "metadata": {},
     "output_type": "execute_result"
    }
   ],
   "source": [
    "def get_tidy_telco_data():\n",
    "    # Get a fresh copy of the data\n",
    "    df = get_telco_data()\n",
    "    # Drop columns that just repeat the data in other columns\n",
    "    df = df.drop(columns=['contract_type_id', 'payment_type_id', 'internet_service_type_id'])\n",
    "    # Replace the spaces in total_charges with a 0 and sets the column's type to a float\n",
    "    df.total_charges = df.total_charges.replace(' ', 0).astype(np.float64)\n",
    "    # Convert the senior citizen column into boolean type.\n",
    "    # We want to handle this one separetely because unlike the others, it uses 1's and 0's instead of Yes/No\n",
    "    df.senior_citizen = df.senior_citizen == 1\n",
    "    # Do something similar with gender\n",
    "    df.gender = df.gender == 'Male'\n",
    "    # Also rename the gender column to make it more intuitive to read later.\n",
    "    df.rename(columns={'gender': 'is_male'}, inplace=True)\n",
    "    # Loop through the yes/no columns and convert them to booleans.\n",
    "    yes_no_columns = [ 'partner',\n",
    "                    'dependents',\n",
    "                    'phone_service',\n",
    "                    'multiple_lines',\n",
    "                    'online_security',\n",
    "                    'online_backup',\n",
    "                    'device_protection',\n",
    "                    'tech_support',\n",
    "                    'streaming_tv',\n",
    "                    'streaming_movies',\n",
    "                    'paperless_billing',\n",
    "                    'churn']\n",
    "    for column in yes_no_columns:\n",
    "        df[column] = df[column] == \"Yes\"\n",
    "    return df\n",
    "\n",
    "# Test functionality\n",
    "get_tidy_telco_data().head(2)    "
   ]
  },
  {
   "cell_type": "markdown",
   "metadata": {},
   "source": [
    "Because we know we are going to be making machine learning models from the data, it is a good idea to create dummy columns (a set of boolean columns where each column corresponds to each of the possible categories in a different column) for the categorical variables.  Pandas includes a method called `get_dummies` that simplifies the process.\n"
   ]
  },
  {
   "cell_type": "markdown",
   "metadata": {},
   "source": [
    "\n",
    "However, carrying those columns around during exploration can be unweildy so we'll pack that process into a separate function that we can call later when it's time to mess with modeling."
   ]
  },
  {
   "cell_type": "code",
   "execution_count": 26,
   "metadata": {},
   "outputs": [
    {
     "data": {
      "text/html": [
       "<div>\n",
       "<style scoped>\n",
       "    .dataframe tbody tr th:only-of-type {\n",
       "        vertical-align: middle;\n",
       "    }\n",
       "\n",
       "    .dataframe tbody tr th {\n",
       "        vertical-align: top;\n",
       "    }\n",
       "\n",
       "    .dataframe thead th {\n",
       "        text-align: right;\n",
       "    }\n",
       "</style>\n",
       "<table border=\"1\" class=\"dataframe\">\n",
       "  <thead>\n",
       "    <tr style=\"text-align: right;\">\n",
       "      <th></th>\n",
       "      <th>customer_id</th>\n",
       "      <th>is_male</th>\n",
       "      <th>senior_citizen</th>\n",
       "      <th>partner</th>\n",
       "      <th>dependents</th>\n",
       "      <th>tenure</th>\n",
       "      <th>phone_service</th>\n",
       "      <th>multiple_lines</th>\n",
       "      <th>online_security</th>\n",
       "      <th>online_backup</th>\n",
       "      <th>...</th>\n",
       "      <th>internet_service_type_DSL</th>\n",
       "      <th>internet_service_type_Fiber optic</th>\n",
       "      <th>internet_service_type_None</th>\n",
       "      <th>payment_type_Bank transfer (automatic)</th>\n",
       "      <th>payment_type_Credit card (automatic)</th>\n",
       "      <th>payment_type_Electronic check</th>\n",
       "      <th>payment_type_Mailed check</th>\n",
       "      <th>contract_type_Month-to-month</th>\n",
       "      <th>contract_type_One year</th>\n",
       "      <th>contract_type_Two year</th>\n",
       "    </tr>\n",
       "  </thead>\n",
       "  <tbody>\n",
       "    <tr>\n",
       "      <th>0</th>\n",
       "      <td>0002-ORFBO</td>\n",
       "      <td>False</td>\n",
       "      <td>False</td>\n",
       "      <td>True</td>\n",
       "      <td>True</td>\n",
       "      <td>9</td>\n",
       "      <td>True</td>\n",
       "      <td>False</td>\n",
       "      <td>False</td>\n",
       "      <td>True</td>\n",
       "      <td>...</td>\n",
       "      <td>True</td>\n",
       "      <td>False</td>\n",
       "      <td>False</td>\n",
       "      <td>False</td>\n",
       "      <td>False</td>\n",
       "      <td>False</td>\n",
       "      <td>True</td>\n",
       "      <td>False</td>\n",
       "      <td>True</td>\n",
       "      <td>False</td>\n",
       "    </tr>\n",
       "    <tr>\n",
       "      <th>1</th>\n",
       "      <td>0003-MKNFE</td>\n",
       "      <td>True</td>\n",
       "      <td>False</td>\n",
       "      <td>False</td>\n",
       "      <td>False</td>\n",
       "      <td>9</td>\n",
       "      <td>True</td>\n",
       "      <td>True</td>\n",
       "      <td>False</td>\n",
       "      <td>False</td>\n",
       "      <td>...</td>\n",
       "      <td>True</td>\n",
       "      <td>False</td>\n",
       "      <td>False</td>\n",
       "      <td>False</td>\n",
       "      <td>False</td>\n",
       "      <td>False</td>\n",
       "      <td>True</td>\n",
       "      <td>True</td>\n",
       "      <td>False</td>\n",
       "      <td>False</td>\n",
       "    </tr>\n",
       "  </tbody>\n",
       "</table>\n",
       "<p>2 rows × 28 columns</p>\n",
       "</div>"
      ],
      "text/plain": [
       "  customer_id  is_male  senior_citizen  partner  dependents  tenure  \\\n",
       "0  0002-ORFBO    False           False     True        True       9   \n",
       "1  0003-MKNFE     True           False    False       False       9   \n",
       "\n",
       "   phone_service  multiple_lines  online_security  online_backup  ...  \\\n",
       "0           True           False            False           True  ...   \n",
       "1           True            True            False          False  ...   \n",
       "\n",
       "   internet_service_type_DSL  internet_service_type_Fiber optic  \\\n",
       "0                       True                              False   \n",
       "1                       True                              False   \n",
       "\n",
       "   internet_service_type_None  payment_type_Bank transfer (automatic)  \\\n",
       "0                       False                                   False   \n",
       "1                       False                                   False   \n",
       "\n",
       "   payment_type_Credit card (automatic)  payment_type_Electronic check  \\\n",
       "0                                 False                          False   \n",
       "1                                 False                          False   \n",
       "\n",
       "   payment_type_Mailed check  contract_type_Month-to-month  \\\n",
       "0                       True                         False   \n",
       "1                       True                          True   \n",
       "\n",
       "   contract_type_One year  contract_type_Two year  \n",
       "0                    True                   False  \n",
       "1                   False                   False  \n",
       "\n",
       "[2 rows x 28 columns]"
      ]
     },
     "execution_count": 26,
     "metadata": {},
     "output_type": "execute_result"
    }
   ],
   "source": [
    "# Demonstration of the get_dummies() method\n",
    "pd.get_dummies(df, columns=['internet_service_type', 'payment_type', 'contract_type'], dtype=bool).head(2)"
   ]
  },
  {
   "cell_type": "code",
   "execution_count": 27,
   "metadata": {},
   "outputs": [
    {
     "data": {
      "text/html": [
       "<div>\n",
       "<style scoped>\n",
       "    .dataframe tbody tr th:only-of-type {\n",
       "        vertical-align: middle;\n",
       "    }\n",
       "\n",
       "    .dataframe tbody tr th {\n",
       "        vertical-align: top;\n",
       "    }\n",
       "\n",
       "    .dataframe thead th {\n",
       "        text-align: right;\n",
       "    }\n",
       "</style>\n",
       "<table border=\"1\" class=\"dataframe\">\n",
       "  <thead>\n",
       "    <tr style=\"text-align: right;\">\n",
       "      <th></th>\n",
       "      <th>customer_id</th>\n",
       "      <th>is_male</th>\n",
       "      <th>senior_citizen</th>\n",
       "      <th>partner</th>\n",
       "      <th>dependents</th>\n",
       "      <th>tenure</th>\n",
       "      <th>phone_service</th>\n",
       "      <th>multiple_lines</th>\n",
       "      <th>online_security</th>\n",
       "      <th>online_backup</th>\n",
       "      <th>...</th>\n",
       "      <th>internet_service_type_dsl</th>\n",
       "      <th>internet_service_type_fiber optic</th>\n",
       "      <th>internet_service_type_none</th>\n",
       "      <th>payment_type_bank transfer (automatic)</th>\n",
       "      <th>payment_type_credit card (automatic)</th>\n",
       "      <th>payment_type_electronic check</th>\n",
       "      <th>payment_type_mailed check</th>\n",
       "      <th>contract_type_month-to-month</th>\n",
       "      <th>contract_type_one year</th>\n",
       "      <th>contract_type_two year</th>\n",
       "    </tr>\n",
       "  </thead>\n",
       "  <tbody>\n",
       "    <tr>\n",
       "      <th>0</th>\n",
       "      <td>0002-ORFBO</td>\n",
       "      <td>False</td>\n",
       "      <td>False</td>\n",
       "      <td>True</td>\n",
       "      <td>True</td>\n",
       "      <td>9</td>\n",
       "      <td>True</td>\n",
       "      <td>False</td>\n",
       "      <td>False</td>\n",
       "      <td>True</td>\n",
       "      <td>...</td>\n",
       "      <td>True</td>\n",
       "      <td>False</td>\n",
       "      <td>False</td>\n",
       "      <td>False</td>\n",
       "      <td>False</td>\n",
       "      <td>False</td>\n",
       "      <td>True</td>\n",
       "      <td>False</td>\n",
       "      <td>True</td>\n",
       "      <td>False</td>\n",
       "    </tr>\n",
       "    <tr>\n",
       "      <th>1</th>\n",
       "      <td>0003-MKNFE</td>\n",
       "      <td>True</td>\n",
       "      <td>False</td>\n",
       "      <td>False</td>\n",
       "      <td>False</td>\n",
       "      <td>9</td>\n",
       "      <td>True</td>\n",
       "      <td>True</td>\n",
       "      <td>False</td>\n",
       "      <td>False</td>\n",
       "      <td>...</td>\n",
       "      <td>True</td>\n",
       "      <td>False</td>\n",
       "      <td>False</td>\n",
       "      <td>False</td>\n",
       "      <td>False</td>\n",
       "      <td>False</td>\n",
       "      <td>True</td>\n",
       "      <td>True</td>\n",
       "      <td>False</td>\n",
       "      <td>False</td>\n",
       "    </tr>\n",
       "  </tbody>\n",
       "</table>\n",
       "<p>2 rows × 28 columns</p>\n",
       "</div>"
      ],
      "text/plain": [
       "  customer_id  is_male  senior_citizen  partner  dependents  tenure  \\\n",
       "0  0002-ORFBO    False           False     True        True       9   \n",
       "1  0003-MKNFE     True           False    False       False       9   \n",
       "\n",
       "   phone_service  multiple_lines  online_security  online_backup  ...  \\\n",
       "0           True           False            False           True  ...   \n",
       "1           True            True            False          False  ...   \n",
       "\n",
       "   internet_service_type_dsl  internet_service_type_fiber optic  \\\n",
       "0                       True                              False   \n",
       "1                       True                              False   \n",
       "\n",
       "   internet_service_type_none  payment_type_bank transfer (automatic)  \\\n",
       "0                       False                                   False   \n",
       "1                       False                                   False   \n",
       "\n",
       "   payment_type_credit card (automatic)  payment_type_electronic check  \\\n",
       "0                                 False                          False   \n",
       "1                                 False                          False   \n",
       "\n",
       "   payment_type_mailed check  contract_type_month-to-month  \\\n",
       "0                       True                         False   \n",
       "1                       True                          True   \n",
       "\n",
       "   contract_type_one year  contract_type_two year  \n",
       "0                    True                   False  \n",
       "1                   False                   False  \n",
       "\n",
       "[2 rows x 28 columns]"
      ]
     },
     "execution_count": 27,
     "metadata": {},
     "output_type": "execute_result"
    }
   ],
   "source": [
    "def get_tidier_telco_data():\n",
    "    df = get_tidy_telco_data()\n",
    "    df = pd.get_dummies(df, columns=['internet_service_type', 'payment_type', 'contract_type'], dtype=bool)\n",
    "    df.columns = df.columns.str.lower()\n",
    "    return df\n",
    "\n",
    "# Test the new function\n",
    "get_tidier_telco_data().head(2)"
   ]
  },
  {
   "cell_type": "markdown",
   "metadata": {},
   "source": [
    "Later, while writing Final_Report.ipynb I discovered that the dummy columns method actually drops the originating columns from which the dummy columns are derived.  So the above function has been updated:"
   ]
  },
  {
   "cell_type": "code",
   "execution_count": null,
   "metadata": {},
   "outputs": [],
   "source": [
    "def get_tidier_telco_data():\n",
    "    df = get_tidy_telco_data()\n",
    "    dummy_columns = ['internet_service_type', 'payment_type', 'contract_type']\n",
    "    temp_df = df[dummy_columns]\n",
    "    df = pd.get_dummies(df, columns=dummy_columns, dtype=bool)\n",
    "    df = pd.concat([df, temp_df], axis=1)\n",
    "    df.columns = df.columns.str.lower()\n",
    "    return df"
   ]
  },
  {
   "cell_type": "markdown",
   "metadata": {},
   "source": [
    "Also, because we are creating a machine learning model it is important to avoid over-fitting.  We can take steps in that direction by splitting the data before we begin exploration.  \n",
    "To do so we'll use sklearn's `test_train_split` functionality to split the data into separate dataframes.  Traditionally these would be split into three parts (train, test, and validate), but because I imagine that I will want to try a lot of different models I will instead split into four parts (train, test, validate, and verify).\n",
    "\n",
    "The final percentages of the dataset should be:\n",
    " - train: 50%\n",
    " - test: 20%\n",
    " - validate: 15%\n",
    " - verify: 15%\n",
    "\n",
    "The verify dataset will be used only once to verify that the model I choose as the best performs as expected on data that it's never seen before."
   ]
  },
  {
   "cell_type": "code",
   "execution_count": 28,
   "metadata": {},
   "outputs": [],
   "source": [
    "from sklearn.model_selection import train_test_split\n",
    "\n",
    "def train_test_validate_verify_split(df, seed=8, stratify='churn'):\n",
    "    # First split off our training data.\n",
    "    train, tvv = train_test_split(\n",
    "        df, \n",
    "        test_size=1/2, \n",
    "        random_state=seed, \n",
    "        stratify=( df[stratify] if stratify else None)\n",
    "    )\n",
    "    # Then split our testing data.\n",
    "    test, vv = train_test_split(\n",
    "        tvv,\n",
    "        test_size=3/5,\n",
    "        random_state=seed,\n",
    "        stratify= (tvv[stratify] if stratify else None)\n",
    "    )\n",
    "    # Then split validate and verify data.\n",
    "    validate, verify = train_test_split(\n",
    "        vv,\n",
    "        test_size=1/2,\n",
    "        random_state=seed,\n",
    "        stratify= (vv[stratify] if stratify else None)\n",
    "    )\n",
    "    return train, test, validate, verify"
   ]
  },
  {
   "cell_type": "code",
   "execution_count": 29,
   "metadata": {},
   "outputs": [
    {
     "data": {
      "text/plain": [
       "(0.4999290075252023,\n",
       " 0.1999148090302428,\n",
       " 0.15007809172227743,\n",
       " 0.15007809172227743)"
      ]
     },
     "execution_count": 29,
     "metadata": {},
     "output_type": "execute_result"
    }
   ],
   "source": [
    "# split the data\n",
    "train, test, validate, verify = train_test_validate_verify_split(df)\n",
    "\n",
    "# verify the lengths are what I expect\n",
    "t = len(df)\n",
    "a = len(train)\n",
    "b = len(test)\n",
    "c = len(validate)\n",
    "d = len(verify)\n",
    "\n",
    "a/t, b/t, c/t, d/t\n"
   ]
  },
  {
   "cell_type": "markdown",
   "metadata": {},
   "source": [
    "# DS Pipeline Step 3: Exploration"
   ]
  },
  {
   "cell_type": "markdown",
   "metadata": {},
   "source": [
    "Now that the data has been prepared and a repeatable process has been established, it's time to begin exploring our data.  This is where our original hypothesis comes into play.\n",
    "\n",
    "> Customers who pay the most are most likely to churn.\n",
    "\n",
    "Let's try to determine if that is true."
   ]
  },
  {
   "cell_type": "code",
   "execution_count": 30,
   "metadata": {},
   "outputs": [
    {
     "data": {
      "text/plain": [
       "Text(0.5, 1.0, 'Distribution of monthly charges by churn')"
      ]
     },
     "execution_count": 30,
     "metadata": {},
     "output_type": "execute_result"
    },
    {
     "data": {
      "image/png": "[encoded data removed]",
      "text/plain": [
       "<Figure size 648x504 with 1 Axes>"
      ]
     },
     "metadata": {
      "needs_background": "light"
     },
     "output_type": "display_data"
    }
   ],
   "source": [
    "plt.figure(figsize = (9,7))\n",
    "# Plot the distribution of monthly charges for customer who didn't churn\n",
    "ax = sns.kdeplot(train.monthly_charges[~train.churn],\n",
    "                color=\"Red\", shade = True)\n",
    "# On the same graph, plot the distribution for customers who did\n",
    "ax = sns.kdeplot(train.monthly_charges[train.churn ],\n",
    "                ax=ax, color=\"Blue\", shade= True)\n",
    "\n",
    "# Prettify the graph with some labels and a legend\n",
    "ax.legend([\"Not Churn\",\"Churn\"],loc='upper right')\n",
    "ax.set_ylabel('Density')\n",
    "ax.set_xlabel('Monthly Charges')\n",
    "ax.set_title('Distribution of monthly charges by churn')"
   ]
  },
  {
   "cell_type": "markdown",
   "metadata": {},
   "source": [
    "At first glance our hypothesis seems to be true.  The distribution higher monthly charges is more dense for customers who churn, and there is a large spike of low monthly charges for customers who don't churn.\n",
    "\n",
    "We should perform a statistical test to be sure.\n",
    "\n",
    "Adhering to the traditions of statistical anylsis we'll set the null hypothesis to assume that there's no significance and our alternate hypothesis as there is a significance.\n",
    "And because we are dealing with two groups we'll use an independant t-test."
   ]
  },
  {
   "cell_type": "code",
   "execution_count": 31,
   "metadata": {},
   "outputs": [],
   "source": [
    "from scipy import stats\n",
    "\n",
    "#Significance level \n",
    "alpha = 0.05\n",
    "\n",
    "train_churn = train[train.churn]\n",
    "train_not_churn = train[~train.churn]\n",
    "# Mean of charges, the standard deviation, and the number of observations for each subset\n",
    "mu_1 = train_not_churn.monthly_charges.mean()\n",
    "sigma_1 = train_not_churn.monthly_charges.std()\n",
    "nobs_1 = len(train_not_churn)\n",
    "mu_2 = train_churn.monthly_charges.mean()\n",
    "sigma_2 = train_churn.monthly_charges.std()\n",
    "nobs_2 = len(train_churn)"
   ]
  },
  {
   "cell_type": "code",
   "execution_count": 32,
   "metadata": {},
   "outputs": [
    {
     "name": "stdout",
     "output_type": "stream",
     "text": [
      "We reject the null hypothesis and assume that there is a statistically significant difference.\n"
     ]
    }
   ],
   "source": [
    "t,p = stats.ttest_ind_from_stats(mu_1,sigma_1,nobs_1,mu_2,sigma_2,nobs_2, equal_var=False)\n",
    "if p/2 < alpha:\n",
    "    print (\"We reject the null hypothesis and assume that there is a statistically significant difference.\")"
   ]
  },
  {
   "cell_type": "markdown",
   "metadata": {},
   "source": [
    "After performing the statistical test we can conclude that our original hypothesis is true, customers who pay more are more likely to churn.  So we are done right?\n",
    "\n",
    "Well, not exactly.  Our hypothesis does answer a question, just not our company's question.  The company wants to know the best predictors for customer churn, and so far we've only identified one corellation.  We can't yet determine how good of a predictor monthly charges are.  To answer that we should look at the dataset as a whole.\n",
    "\n",
    "To help us decide what to focus on we'll use pandas' `.corr()` method to quickly determine which columns are more likely than others.  This is one of those situations where having the dummy columns that I skipped earlier would be helpful, so I'll also create a new dataframe with those columns included."
   ]
  },
  {
   "cell_type": "code",
   "execution_count": 33,
   "metadata": {},
   "outputs": [
    {
     "data": {
      "text/plain": [
       "is_male                                   0.012382\n",
       "senior_citizen                            0.150619\n",
       "partner                                  -0.160525\n",
       "dependents                               -0.155533\n",
       "tenure                                   -0.351130\n",
       "phone_service                             0.015814\n",
       "multiple_lines                            0.035606\n",
       "online_security                          -0.191327\n",
       "online_backup                            -0.081699\n",
       "device_protection                        -0.077667\n",
       "tech_support                             -0.156812\n",
       "streaming_tv                              0.071561\n",
       "streaming_movies                          0.072027\n",
       "paperless_billing                         0.194968\n",
       "monthly_charges                           0.192372\n",
       "total_charges                            -0.196129\n",
       "churn                                     1.000000\n",
       "internet_service_type_dsl                -0.119117\n",
       "internet_service_type_fiber optic         0.303823\n",
       "internet_service_type_none               -0.225098\n",
       "payment_type_bank transfer (automatic)   -0.128787\n",
       "payment_type_credit card (automatic)     -0.131940\n",
       "payment_type_electronic check             0.318880\n",
       "payment_type_mailed check                -0.099720\n",
       "contract_type_month-to-month              0.410151\n",
       "contract_type_one year                   -0.178361\n",
       "contract_type_two year                   -0.306759\n",
       "Name: churn, dtype: float64"
      ]
     },
     "execution_count": 33,
     "metadata": {},
     "output_type": "execute_result"
    }
   ],
   "source": [
    "full, _, __,___ = wrangle.train_test_validate_verify_split( wrangle.get_tidier_telco_data() )\n",
    "full.corr().churn"
   ]
  },
  {
   "cell_type": "markdown",
   "metadata": {},
   "source": [
    "That's a lot of numbers and isn't very easy to look at.  Let's visualize"
   ]
  },
  {
   "cell_type": "code",
   "execution_count": 34,
   "metadata": {},
   "outputs": [
    {
     "data": {
      "text/plain": [
       "Text(0.5, 1.0, 'Correllation with Churn')"
      ]
     },
     "execution_count": 34,
     "metadata": {},
     "output_type": "execute_result"
    },
    {
     "data": {
      "image/png": "[encoded data removed]",
      "text/plain": [
       "<Figure size 504x720 with 1 Axes>"
      ]
     },
     "metadata": {
      "needs_background": "light"
     },
     "output_type": "display_data"
    }
   ],
   "source": [
    "plt.figure(figsize=(7,10))\n",
    "x = full.corr().churn.drop(labels='churn').sort_values()\n",
    "ax = x.plot(kind='barh')\n",
    "ax.set_title('Correllation with Churn')"
   ]
  },
  {
   "cell_type": "markdown",
   "metadata": {},
   "source": [
    "That's still a lot of data.  Let's cut out the weaker correlations."
   ]
  },
  {
   "cell_type": "code",
   "execution_count": 35,
   "metadata": {},
   "outputs": [
    {
     "data": {
      "text/plain": [
       "Text(0.5, 1.0, 'Correllation with Churn')"
      ]
     },
     "execution_count": 35,
     "metadata": {},
     "output_type": "execute_result"
    },
    {
     "data": {
      "image/png": "[encoded data removed]",
      "text/plain": [
       "<Figure size 504x720 with 1 Axes>"
      ]
     },
     "metadata": {
      "needs_background": "light"
     },
     "output_type": "display_data"
    }
   ],
   "source": [
    "plt.figure(figsize=(7,10))\n",
    "x = full.corr().churn.drop(labels='churn').sort_values()\n",
    "ax = x[abs(x) > .18].plot(kind='barh')\n",
    "ax.set_title('Correllation with Churn')"
   ]
  },
  {
   "cell_type": "markdown",
   "metadata": {},
   "source": [
    "Unfortunately, none of these appear to be very strong corellations.  1.0 is a perfect correllation and the absolute value of all of these doesn't even get up to 0.5.  However, this process has helped us identify a good subset of fetures to start with."
   ]
  },
  {
   "cell_type": "code",
   "execution_count": 36,
   "metadata": {},
   "outputs": [
    {
     "data": {
      "text/plain": [
       "['tenure',\n",
       " 'contract_type_two year',\n",
       " 'internet_service_type_none',\n",
       " 'total_charges',\n",
       " 'online_security',\n",
       " 'monthly_charges',\n",
       " 'paperless_billing',\n",
       " 'internet_service_type_fiber optic',\n",
       " 'payment_type_electronic check',\n",
       " 'contract_type_month-to-month']"
      ]
     },
     "execution_count": 36,
     "metadata": {},
     "output_type": "execute_result"
    }
   ],
   "source": [
    "potential_features = x[abs(x) > .18].index.tolist()\n",
    "potential_features"
   ]
  },
  {
   "cell_type": "code",
   "execution_count": 37,
   "metadata": {},
   "outputs": [
    {
     "data": {
      "image/png": "[encoded data removed]",
      "text/plain": [
       "<Figure size 648x648 with 1 Axes>"
      ]
     },
     "metadata": {
      "needs_background": "light"
     },
     "output_type": "display_data"
    }
   ],
   "source": [
    "plt.figure(figsize = (9,9))\n",
    "sblue = '#00F7FF'\n",
    "gcr = train.churn.mean()\n",
    "churn = sns.barplot(\n",
    "                    data = train, \n",
    "                    y='churn', \n",
    "                    x='contract_type', \n",
    "                    order=['Two year','One year','Month-to-month'],\n",
    "                    palette=['grey','grey',sblue],\n",
    "                    ).set(\n",
    "                        title='M2M has much higher churn rate',\n",
    "                    )\n",
    "\n",
    "plt.axhline(gcr)\n",
    "plt.text(-0.47, gcr+.005, 'Global Churn Rate')\n",
    "# plt.legend(title='Contract Type')\n",
    "plt.ylabel('Churn Rate')\n",
    "plt.xlabel('Contract Type')\n",
    "plt.gca().yaxis.set_major_formatter('{:.0%}'.format)"
   ]
  },
  {
   "cell_type": "code",
   "execution_count": 38,
   "metadata": {},
   "outputs": [
    {
     "data": {
      "text/plain": [
       "Fiber optic    1509\n",
       "DSL            1230\n",
       "None            782\n",
       "Name: internet_service_type, dtype: int64"
      ]
     },
     "execution_count": 38,
     "metadata": {},
     "output_type": "execute_result"
    }
   ],
   "source": [
    "train.internet_service_type.value_counts()"
   ]
  },
  {
   "cell_type": "code",
   "execution_count": 39,
   "metadata": {},
   "outputs": [
    {
     "data": {
      "image/png": "[encoded data removed]",
      "text/plain": [
       "<Figure size 648x648 with 1 Axes>"
      ]
     },
     "metadata": {
      "needs_background": "light"
     },
     "output_type": "display_data"
    }
   ],
   "source": [
    "plt.figure(figsize = (9,9))\n",
    "sblue = '#00F7FF'\n",
    "gcr = train.churn.mean()\n",
    "churn = sns.barplot(\n",
    "                    data = train, \n",
    "                    y='churn', \n",
    "                    x='internet_service_type', \n",
    "                    order=['None','DSL','Fiber optic'],\n",
    "                    palette=['grey','grey',sblue],\n",
    "                    ).set(\n",
    "                        title='Fiber Optic customers have a much higher churn rate',\n",
    "                    )\n",
    "\n",
    "plt.axhline(gcr)\n",
    "plt.text(-0.47, gcr+.005, 'Global Churn Rate')\n",
    "# plt.legend(title='Contract Type')\n",
    "plt.ylabel('Churn Rate')\n",
    "plt.xlabel('Internet Type')\n",
    "plt.gca().yaxis.set_major_formatter('{:.0%}'.format)"
   ]
  },
  {
   "cell_type": "code",
   "execution_count": 40,
   "metadata": {},
   "outputs": [],
   "source": [
    "inet_ctType = pd.crosstab(train.contract_type, train.internet_service_type)"
   ]
  },
  {
   "cell_type": "code",
   "execution_count": 41,
   "metadata": {},
   "outputs": [],
   "source": [
    "def chi2_test(df, alpha=0.05):\n",
    "    chi2, p, degf, expected = stats.chi2_contingency(df)\n",
    "    print('Observed\\n')\n",
    "    print(df.values)\n",
    "    print('---\\nExpected\\n')\n",
    "    print(expected.astype(int))\n",
    "    print('---\\n')\n",
    "    print(f'chi^2 = {chi2:.4f}')\n",
    "    print(f'degf = {degf}')\n",
    "    print(f'p     = {p:.4f}')\n",
    "    print('---\\n')\n",
    "    if p < alpha:\n",
    "        print(\"We reject the null hypothesis\")\n",
    "    else:\n",
    "        print(\"We fail to reject the null hypothesis\")"
   ]
  },
  {
   "cell_type": "code",
   "execution_count": 42,
   "metadata": {},
   "outputs": [
    {
     "name": "stdout",
     "output_type": "stream",
     "text": [
      "Observed\n",
      "\n",
      "[[ 630 1049  254]\n",
      " [ 278  258  188]\n",
      " [ 322  202  340]]\n",
      "---\n",
      "Expected\n",
      "\n",
      "[[675 828 429]\n",
      " [252 310 160]\n",
      " [301 370 191]]\n",
      "---\n",
      "\n",
      "chi^2 = 341.3978\n",
      "degf = 4\n",
      "p     = 0.0000\n",
      "---\n",
      "\n",
      "We reject the null hypothesis\n"
     ]
    },
    {
     "data": {
      "text/html": [
       "<div>\n",
       "<style scoped>\n",
       "    .dataframe tbody tr th:only-of-type {\n",
       "        vertical-align: middle;\n",
       "    }\n",
       "\n",
       "    .dataframe tbody tr th {\n",
       "        vertical-align: top;\n",
       "    }\n",
       "\n",
       "    .dataframe thead th {\n",
       "        text-align: right;\n",
       "    }\n",
       "</style>\n",
       "<table border=\"1\" class=\"dataframe\">\n",
       "  <thead>\n",
       "    <tr style=\"text-align: right;\">\n",
       "      <th>internet_service_type</th>\n",
       "      <th>DSL</th>\n",
       "      <th>Fiber optic</th>\n",
       "      <th>None</th>\n",
       "    </tr>\n",
       "    <tr>\n",
       "      <th>contract_type</th>\n",
       "      <th></th>\n",
       "      <th></th>\n",
       "      <th></th>\n",
       "    </tr>\n",
       "  </thead>\n",
       "  <tbody>\n",
       "    <tr>\n",
       "      <th>Month-to-month</th>\n",
       "      <td>630</td>\n",
       "      <td>1049</td>\n",
       "      <td>254</td>\n",
       "    </tr>\n",
       "    <tr>\n",
       "      <th>One year</th>\n",
       "      <td>278</td>\n",
       "      <td>258</td>\n",
       "      <td>188</td>\n",
       "    </tr>\n",
       "    <tr>\n",
       "      <th>Two year</th>\n",
       "      <td>322</td>\n",
       "      <td>202</td>\n",
       "      <td>340</td>\n",
       "    </tr>\n",
       "  </tbody>\n",
       "</table>\n",
       "</div>"
      ],
      "text/plain": [
       "internet_service_type  DSL  Fiber optic  None\n",
       "contract_type                                \n",
       "Month-to-month         630         1049   254\n",
       "One year               278          258   188\n",
       "Two year               322          202   340"
      ]
     },
     "execution_count": 42,
     "metadata": {},
     "output_type": "execute_result"
    }
   ],
   "source": [
    "chi2_test(inet_ctType)\n",
    "inet_ctType"
   ]
  },
  {
   "cell_type": "code",
   "execution_count": 43,
   "metadata": {},
   "outputs": [
    {
     "data": {
      "text/plain": [
       "['Credit card (automatic)',\n",
       " 'Bank transfer (automatic)',\n",
       " 'Mailed check',\n",
       " 'Electronic check']"
      ]
     },
     "execution_count": 43,
     "metadata": {},
     "output_type": "execute_result"
    }
   ],
   "source": [
    "train.payment_type.value_counts().index.tolist()[::-1]"
   ]
  },
  {
   "cell_type": "code",
   "execution_count": 44,
   "metadata": {},
   "outputs": [
    {
     "data": {
      "image/png": "[encoded data removed]",
      "text/plain": [
       "<Figure size 648x648 with 1 Axes>"
      ]
     },
     "metadata": {
      "needs_background": "light"
     },
     "output_type": "display_data"
    }
   ],
   "source": [
    "plt.figure(figsize = (9,9))\n",
    "sblue = '#00F7FF'\n",
    "gcr = train.churn.mean()\n",
    "churn = sns.barplot(\n",
    "                    data = train, \n",
    "                    y='churn', \n",
    "                    x='payment_type', \n",
    "                    order=train.payment_type.value_counts().index.tolist()[::-1],\n",
    "                    palette=['grey','grey','grey',sblue],\n",
    "                    ).set(\n",
    "                        title='Customers who pay with E-Check have a much higher churn rate',\n",
    "                    )\n",
    "\n",
    "plt.axhline(gcr)\n",
    "plt.text(-0.47, gcr+.005, 'Global Churn Rate')\n",
    "# plt.legend(title='Contract Type')\n",
    "plt.ylabel('Churn Rate')\n",
    "plt.xlabel('Payment Type')\n",
    "plt.gca().yaxis.set_major_formatter('{:.0%}'.format)"
   ]
  },
  {
   "cell_type": "code",
   "execution_count": 45,
   "metadata": {},
   "outputs": [
    {
     "data": {
      "text/plain": [
       "Text(0.5, 1.0, 'Distribution of Tenure by churn')"
      ]
     },
     "execution_count": 45,
     "metadata": {},
     "output_type": "execute_result"
    },
    {
     "data": {
      "image/png": "[encoded data removed]",
      "text/plain": [
       "<Figure size 648x504 with 1 Axes>"
      ]
     },
     "metadata": {
      "needs_background": "light"
     },
     "output_type": "display_data"
    }
   ],
   "source": [
    "plt.figure(figsize = (9,7))\n",
    "ax = sns.kdeplot(train.tenure[~train.churn],\n",
    "                color=\"Red\", shade = True)\n",
    "ax = sns.kdeplot(train.tenure[train.churn ],\n",
    "                ax=ax, color=\"Blue\", shade= True)\n",
    "\n",
    "# Prettify the graph with some labels and a legend\n",
    "ax.legend([\"Not Churn\",\"Churn\"],loc='upper right')\n",
    "ax.set_ylabel('Density')\n",
    "ax.set_xlabel('Tenure')\n",
    "ax.set_title('Distribution of Tenure by churn')"
   ]
  },
  {
   "cell_type": "markdown",
   "metadata": {},
   "source": [
    "# DS Pipeline Step 4: Modeling"
   ]
  },
  {
   "cell_type": "markdown",
   "metadata": {},
   "source": [
    "Now that we have identified the most impactful drivers of churn, we can get to work feeding those features into some models and selecting one."
   ]
  },
  {
   "cell_type": "markdown",
   "metadata": {},
   "source": [
    "This is where we decide which metric we care about.  To do that it's helpful to think through the possible outcomes of our model and the costs associated with each.  First we need to define the outcomes:\n",
    " - True Positive: A customer who would churn is identified as likely to churn\n",
    " - True Negative: A customer who would not churn is identified as unlikely to churn\n",
    " - False Postive: A customer who would not churn is identified as likely to churn\n",
    " - False Negative: A customer who would churn is identified as unlikely to churn\n",
    "\n",
    "Then we can think about the costs of each outcome.  We'll ignore the true predictions since there should be a benefit associated with those outcomes as opposed to a cost.\n",
    " - False Postive: Wasted effort from customer retention team (~1/2 hour of employee time = ~$12)\n",
    " - False Negative: Opportunity to retain customer is lost = potential revenue loss (Loss of customer ~$73/mo)\n",
    "\n",
    "With the costs listed here we can find the point at which one metric outweighs another."
   ]
  },
  {
   "cell_type": "code",
   "execution_count": 46,
   "metadata": {},
   "outputs": [
    {
     "data": {
      "text/plain": [
       "<matplotlib.lines.Line2D at 0x219b819b610>"
      ]
     },
     "execution_count": 46,
     "metadata": {},
     "output_type": "execute_result"
    },
    {
     "data": {
      "image/png": "[encoded data removed]",
      "text/plain": [
       "<Figure size 432x288 with 1 Axes>"
      ]
     },
     "metadata": {
      "needs_background": "light"
     },
     "output_type": "display_data"
    }
   ],
   "source": [
    "avg_cust_rev = train.monthly_charges.mean()\n",
    "x = range(0,20)\n",
    "y = [(x/100)*avg_cust_rev for x in x]\n",
    "plt.plot(x,y, color='red')\n",
    "plt.axhline(12/2)"
   ]
  },
  {
   "cell_type": "markdown",
   "metadata": {},
   "source": [
    "If customer retention engagements result in at least %9.5 of customers who would have churned staying for an additional two months then the ROI breaks even.\n",
    "\n",
    "This holds true regardless of the total number of false positives and any improvement in performance, either through longer retentions or higher retention rates, results in a positive return on investment.  Beacuse of this I think it is safe to say that we will want to optimize for recall (minimizing the false-negative rate)"
   ]
  },
  {
   "cell_type": "code",
   "execution_count": 47,
   "metadata": {},
   "outputs": [
    {
     "data": {
      "text/plain": [
       "73.74389721627408"
      ]
     },
     "execution_count": 47,
     "metadata": {},
     "output_type": "execute_result"
    }
   ],
   "source": [
    "train[train.churn].monthly_charges.mean()"
   ]
  },
  {
   "cell_type": "code",
   "execution_count": 48,
   "metadata": {},
   "outputs": [
    {
     "data": {
      "text/plain": [
       "0.26526554955978415"
      ]
     },
     "execution_count": 48,
     "metadata": {},
     "output_type": "execute_result"
    }
   ],
   "source": [
    "train.churn.mean()"
   ]
  },
  {
   "cell_type": "code",
   "execution_count": 49,
   "metadata": {},
   "outputs": [],
   "source": [
    "#Redefine my datasets now that we're ready to model.\n",
    "df = wrangle.get_tidier_telco_data()\n",
    "train, test, validate, verify = wrangle.train_test_validate_verify_split(df)"
   ]
  },
  {
   "cell_type": "code",
   "execution_count": 50,
   "metadata": {},
   "outputs": [],
   "source": [
    "X_train = train[potential_features]\n",
    "y_train = train['churn']"
   ]
  },
  {
   "cell_type": "code",
   "execution_count": 51,
   "metadata": {},
   "outputs": [
    {
     "data": {
      "text/plain": [
       "['tenure',\n",
       " 'contract_type_two year',\n",
       " 'internet_service_type_none',\n",
       " 'total_charges',\n",
       " 'online_security',\n",
       " 'monthly_charges',\n",
       " 'paperless_billing',\n",
       " 'internet_service_type_fiber optic',\n",
       " 'payment_type_electronic check',\n",
       " 'contract_type_month-to-month']"
      ]
     },
     "execution_count": 51,
     "metadata": {},
     "output_type": "execute_result"
    }
   ],
   "source": [
    "potential_features"
   ]
  },
  {
   "cell_type": "code",
   "execution_count": 52,
   "metadata": {},
   "outputs": [],
   "source": [
    "def x_y_split(df):\n",
    "    features = ['tenure',\n",
    "                'contract_type_two year',\n",
    "                'internet_service_type_none',\n",
    "                'total_charges',\n",
    "                'online_security',\n",
    "                'monthly_charges',\n",
    "                'paperless_billing',\n",
    "                'internet_service_type_fiber optic',\n",
    "                'payment_type_electronic check',\n",
    "                'contract_type_month-to-month']\n",
    "    x = df[features]\n",
    "    y = df['churn']\n",
    "    return x, y"
   ]
  },
  {
   "cell_type": "code",
   "execution_count": 53,
   "metadata": {},
   "outputs": [],
   "source": [
    "from sklearn.ensemble import RandomForestClassifier\n",
    "from sklearn.linear_model import LogisticRegression"
   ]
  },
  {
   "cell_type": "code",
   "execution_count": 54,
   "metadata": {},
   "outputs": [],
   "source": [
    "baseline_accuracy = 1- y_train.mean()"
   ]
  },
  {
   "cell_type": "markdown",
   "metadata": {},
   "source": [
    "### Random Forest"
   ]
  },
  {
   "cell_type": "code",
   "execution_count": 55,
   "metadata": {},
   "outputs": [],
   "source": [
    "def binary_classifier_stats(actual, predictions):\n",
    "    tn, fp, fn, tp = metrics.confusion_matrix(actual,predictions).ravel()\n",
    "    stats = {\n",
    "            'accuracy' : metrics.accuracy_score(actual, predictions) ,\n",
    "            'false_positive_rate' : fp/(tp+fp) ,\n",
    "            'false_negative_rate' : fn/(tn+fn) ,\n",
    "            'precision' : metrics.precision_score(actual, predictions),\n",
    "            'recall'    : metrics.recall_score(actual, predictions),\n",
    "            'f1-score'  : metrics.f1_score(actual, predictions)\n",
    "            }\n",
    "    return stats"
   ]
  },
  {
   "cell_type": "code",
   "execution_count": 56,
   "metadata": {},
   "outputs": [],
   "source": [
    "rf = RandomForestClassifier(max_depth=8,\n",
    "                            min_samples_leaf = 8,\n",
    "                            random_state=8)"
   ]
  },
  {
   "cell_type": "code",
   "execution_count": 57,
   "metadata": {},
   "outputs": [
    {
     "data": {
      "text/plain": [
       "{'accuracy': 0.8298778756035218,\n",
       " 'false_positive_rate': 0.27636849132176233,\n",
       " 'false_negative_rate': 0.1414141414141414,\n",
       " 'precision': 0.7236315086782377,\n",
       " 'recall': 0.5802997858672377,\n",
       " 'f1-score': 0.6440879382055853}"
      ]
     },
     "execution_count": 57,
     "metadata": {},
     "output_type": "execute_result"
    }
   ],
   "source": [
    "rf.fit(X_train, y_train)\n",
    "pred = rf.predict(X_train)\n",
    "binary_classifier_stats(y_train, pred)"
   ]
  },
  {
   "cell_type": "code",
   "execution_count": 58,
   "metadata": {},
   "outputs": [
    {
     "name": "stderr",
     "output_type": "stream",
     "text": [
      "c:\\Users\\Crux\\AppData\\Local\\Programs\\Python\\Python310\\lib\\site-packages\\sklearn\\utils\\deprecation.py:87: FutureWarning: Function plot_confusion_matrix is deprecated; Function `plot_confusion_matrix` is deprecated in 1.0 and will be removed in 1.2. Use one of the class methods: ConfusionMatrixDisplay.from_predictions or ConfusionMatrixDisplay.from_estimator.\n",
      "  warnings.warn(msg, category=FutureWarning)\n"
     ]
    },
    {
     "data": {
      "text/plain": [
       "<sklearn.metrics._plot.confusion_matrix.ConfusionMatrixDisplay at 0x219b7d596c0>"
      ]
     },
     "execution_count": 58,
     "metadata": {},
     "output_type": "execute_result"
    },
    {
     "data": {
      "image/png": "[encoded data removed]",
      "text/plain": [
       "<Figure size 432x288 with 2 Axes>"
      ]
     },
     "metadata": {
      "needs_background": "light"
     },
     "output_type": "display_data"
    }
   ],
   "source": [
    "metrics.plot_confusion_matrix(rf, X_train, y_train, normalize='true')"
   ]
  },
  {
   "cell_type": "markdown",
   "metadata": {},
   "source": [
    "#### Resampling"
   ]
  },
  {
   "cell_type": "markdown",
   "metadata": {},
   "source": [
    "The accuracy on this model is misleading.  Remember that by just predicting false every time we get 73% accuracy.  This is why we are favoring recall as a metric, we want to minimize the amount of churning customer that aren't identified.\n",
    "\n",
    "In researching how to overcome this problem I've come across a common issue in machine learning called \"class imbalance\".  In our data-sample, the number of not-churners outweigh the number of churners by a significan marigin.  To combat this there is a technique called \"resampling\" which involves duplicating samples of our target class so that they balance with the rest of the data.\n",
    "\n",
    "Let's give it a try."
   ]
  },
  {
   "cell_type": "code",
   "execution_count": 59,
   "metadata": {},
   "outputs": [],
   "source": [
    "from sklearn.utils import resample\n"
   ]
  },
  {
   "cell_type": "code",
   "execution_count": 60,
   "metadata": {},
   "outputs": [],
   "source": [
    "minority_upsample = resample( train[train.churn],   #DF of samples to replicate\n",
    "                            replace = True,         #Implements resampling with replacement, Default=True\n",
    "                            n_samples = len(train[~train.churn]), #Number of samples to produce\n",
    "                            random_state= 8         #Random State seed for reproducibility\n",
    "                            )"
   ]
  },
  {
   "cell_type": "code",
   "execution_count": 61,
   "metadata": {},
   "outputs": [
    {
     "data": {
      "text/plain": [
       "((2587, 28), (2587, 28))"
      ]
     },
     "execution_count": 61,
     "metadata": {},
     "output_type": "execute_result"
    }
   ],
   "source": [
    "minority_upsample.shape, train[~train.churn].shape"
   ]
  },
  {
   "cell_type": "code",
   "execution_count": 62,
   "metadata": {},
   "outputs": [],
   "source": [
    "alter = pd.concat([minority_upsample, train[~train.churn]])\n",
    "X_alter, y_alter = x_y_split(alter)"
   ]
  },
  {
   "cell_type": "code",
   "execution_count": 63,
   "metadata": {},
   "outputs": [
    {
     "data": {
      "text/plain": [
       "{'accuracy': 0.8324313877077696,\n",
       " 'false_positive_rate': 0.19481902058197303,\n",
       " 'false_negative_rate': 0.13497453310696095,\n",
       " 'precision': 0.805180979418027,\n",
       " 'recall': 0.8770776961731735,\n",
       " 'f1-score': 0.8395929694727104}"
      ]
     },
     "execution_count": 63,
     "metadata": {},
     "output_type": "execute_result"
    }
   ],
   "source": [
    "model = RandomForestClassifier(max_depth=8,\n",
    "                            min_samples_leaf = 8,\n",
    "                            random_state=8)\n",
    "\n",
    "model.fit(X_alter, y_alter)\n",
    "pred = model.predict(X_alter)\n",
    "binary_classifier_stats(y_alter, pred)\n"
   ]
  },
  {
   "cell_type": "code",
   "execution_count": 64,
   "metadata": {},
   "outputs": [
    {
     "data": {
      "text/plain": [
       "{'accuracy': 0.8023288838398183,\n",
       " 'false_positive_rate': 0.41092814371257486,\n",
       " 'false_negative_rate': 0.06727688787185354,\n",
       " 'precision': 0.5890718562874252,\n",
       " 'recall': 0.8426124197002142,\n",
       " 'f1-score': 0.6933920704845815}"
      ]
     },
     "execution_count": 64,
     "metadata": {},
     "output_type": "execute_result"
    }
   ],
   "source": [
    "pred = model.predict(X_train)\n",
    "binary_classifier_stats(y_train, pred)"
   ]
  },
  {
   "cell_type": "code",
   "execution_count": 65,
   "metadata": {},
   "outputs": [
    {
     "data": {
      "text/plain": [
       "{'accuracy': 0.7627840909090909,\n",
       " 'false_positive_rate': 0.46226415094339623,\n",
       " 'false_negative_rate': 0.10136674259681093,\n",
       " 'precision': 0.5377358490566038,\n",
       " 'recall': 0.7620320855614974,\n",
       " 'f1-score': 0.6305309734513274}"
      ]
     },
     "execution_count": 65,
     "metadata": {},
     "output_type": "execute_result"
    }
   ],
   "source": [
    "X_test, y_test = x_y_split(test)\n",
    "pred = model.predict(X_test)\n",
    "binary_classifier_stats(y_test, pred)"
   ]
  },
  {
   "cell_type": "markdown",
   "metadata": {},
   "source": [
    "I am much happier with the performance of my model after the resampling process.  So much so that I'm going to go ahead and replace my training sets with the resampled data."
   ]
  },
  {
   "cell_type": "code",
   "execution_count": 66,
   "metadata": {},
   "outputs": [],
   "source": [
    "X_train, y_train = X_alter, y_alter"
   ]
  },
  {
   "cell_type": "markdown",
   "metadata": {},
   "source": [
    "#### Random Forest Loops"
   ]
  },
  {
   "cell_type": "code",
   "execution_count": 67,
   "metadata": {},
   "outputs": [],
   "source": [
    "out=[]\n",
    "for i in range(2,20):\n",
    "    rf = RandomForestClassifier(max_depth=i,\n",
    "                                min_samples_leaf = 8,\n",
    "                                random_state=8)\n",
    "    rf.fit(X_train, y_train)\n",
    "    pred = rf.predict(X_train)\n",
    "    metric = binary_classifier_stats(y_train, pred)\n",
    "    metric['depth'] = i\n",
    "    metric['sample'] = 'train'\n",
    "    out.append(metric)\n",
    "\n",
    "    pred = rf.predict(X_test)\n",
    "    metric = binary_classifier_stats(y_test, pred)\n",
    "    metric['depth'] = i\n",
    "    metric['sample'] = 'test'\n",
    "    out.append(metric)\n",
    "\n",
    "results = pd.DataFrame(out)\n"
   ]
  },
  {
   "cell_type": "code",
   "execution_count": 68,
   "metadata": {},
   "outputs": [
    {
     "data": {
      "text/plain": [
       "<AxesSubplot:xlabel='depth', ylabel='accuracy'>"
      ]
     },
     "execution_count": 68,
     "metadata": {},
     "output_type": "execute_result"
    },
    {
     "data": {
      "image/png": "[encoded data removed]",
      "text/plain": [
       "<Figure size 1440x576 with 2 Axes>"
      ]
     },
     "metadata": {
      "needs_background": "light"
     },
     "output_type": "display_data"
    }
   ],
   "source": [
    "fig, ax = plt.subplots(nrows=1, ncols=2, sharey=True, )\n",
    "fig.set(figwidth=20,figheight=8)\n",
    "plt.setp(ax, xticks=range(20))\n",
    "sns.lineplot(data=results, x='depth', y='recall', hue='sample', ax=ax[0])\n",
    "sns.lineplot(data=results, x='depth', y='accuracy', hue='sample', ax=ax[1], palette='prism')"
   ]
  },
  {
   "cell_type": "markdown",
   "metadata": {},
   "source": [
    "I'll set my depth to 3 since that seems to have the best performance for both recall and accuracy."
   ]
  },
  {
   "cell_type": "markdown",
   "metadata": {},
   "source": [
    "#### Leaf loops"
   ]
  },
  {
   "cell_type": "code",
   "execution_count": 69,
   "metadata": {},
   "outputs": [],
   "source": [
    "out=[]\n",
    "for i in range(2,300):\n",
    "    rf = RandomForestClassifier(max_depth=3,\n",
    "                                min_samples_leaf = i,\n",
    "                                random_state=8)\n",
    "    rf.fit(X_train, y_train)\n",
    "    pred = rf.predict(X_train)\n",
    "    metric = binary_classifier_stats(y_train, pred)\n",
    "    metric['leaves'] = i\n",
    "    metric['sample'] = 'train'\n",
    "    out.append(metric)\n",
    "\n",
    "    pred = rf.predict(X_test)\n",
    "    metric = binary_classifier_stats(y_test, pred)\n",
    "    metric['leaves'] = i\n",
    "    metric['sample'] = 'test'\n",
    "    out.append(metric)\n",
    "\n",
    "results = pd.DataFrame(out)\n"
   ]
  },
  {
   "cell_type": "code",
   "execution_count": 70,
   "metadata": {},
   "outputs": [
    {
     "data": {
      "text/plain": [
       "<AxesSubplot:xlabel='leaves', ylabel='recall'>"
      ]
     },
     "execution_count": 70,
     "metadata": {},
     "output_type": "execute_result"
    },
    {
     "data": {
      "image/png": "[encoded data removed]",
      "text/plain": [
       "<Figure size 1080x720 with 1 Axes>"
      ]
     },
     "metadata": {
      "needs_background": "light"
     },
     "output_type": "display_data"
    }
   ],
   "source": [
    "plt.figure(figsize=(15,10))\n",
    "sns.lineplot(data=results, x='leaves', y='recall', hue='sample')"
   ]
  },
  {
   "cell_type": "markdown",
   "metadata": {},
   "source": [
    "Requiring a high number of samples in a leaf will help combat overfitting, but as we can see here the number to choose creates a lot of noise in the model's perfomance.  Considering that the max depth is set to 3, I don't beleive overfitting will be a problem we need to avoid in this instance."
   ]
  },
  {
   "cell_type": "code",
   "execution_count": 71,
   "metadata": {},
   "outputs": [
    {
     "data": {
      "text/plain": [
       "{'accuracy': 0.7048249763481551,\n",
       " 'false_positive_rate': 0.5306513409961686,\n",
       " 'false_negative_rate': 0.06542056074766354,\n",
       " 'precision': 0.46934865900383144,\n",
       " 'recall': 0.875,\n",
       " 'f1-score': 0.6109725685785536}"
      ]
     },
     "execution_count": 71,
     "metadata": {},
     "output_type": "execute_result"
    }
   ],
   "source": [
    "X_validate, y_validate = x_y_split(validate)\n",
    "model = RandomForestClassifier(max_depth=3,\n",
    "                            min_samples_leaf = 2,\n",
    "                            random_state=8)\n",
    "\n",
    "model.fit(X_train, y_train)\n",
    "pred = model.predict(X_validate)\n",
    "binary_classifier_stats(y_validate, pred)"
   ]
  },
  {
   "cell_type": "markdown",
   "metadata": {},
   "source": [
    "### Logistic Regression"
   ]
  },
  {
   "cell_type": "markdown",
   "metadata": {},
   "source": [
    "I'm happy with the model that I've created with the Random Forest classifier.  But to cover my bases I should also try a different algorithm.\n",
    "\n",
    "Logistic Regression seems a good choice."
   ]
  },
  {
   "cell_type": "code",
   "execution_count": 72,
   "metadata": {},
   "outputs": [
    {
     "data": {
      "text/plain": [
       "{'accuracy': 0.758987243911867,\n",
       " 'false_positive_rate': 0.2595118449389806,\n",
       " 'false_negative_rate': 0.21943048576214405,\n",
       " 'precision': 0.7404881550610194,\n",
       " 'recall': 0.7974487823734054,\n",
       " 'f1-score': 0.7679136422855015}"
      ]
     },
     "execution_count": 72,
     "metadata": {},
     "output_type": "execute_result"
    }
   ],
   "source": [
    "from sklearn.linear_model import LogisticRegression\n",
    "model = LogisticRegression(random_state=8)\n",
    "model.fit(X_train,y_train)\n",
    "pred = model.predict(X_train)\n",
    "binary_classifier_stats(y_train,pred)\n"
   ]
  },
  {
   "cell_type": "code",
   "execution_count": 73,
   "metadata": {},
   "outputs": [
    {
     "data": {
      "text/plain": [
       "<AxesSubplot:xlabel='i', ylabel='recall'>"
      ]
     },
     "execution_count": 73,
     "metadata": {},
     "output_type": "execute_result"
    },
    {
     "data": {
      "image/png": "[encoded data removed]",
      "text/plain": [
       "<Figure size 1440x720 with 1 Axes>"
      ]
     },
     "metadata": {
      "needs_background": "light"
     },
     "output_type": "display_data"
    }
   ],
   "source": [
    "\n",
    "out =[]\n",
    "\n",
    "for i in range(1,101):\n",
    "    c = i/100\n",
    "    model = LogisticRegression(C=c, max_iter=200, random_state=8)\n",
    "    model.fit(X_train,y_train)\n",
    "    pred = model.predict(X_train)\n",
    "    metric = binary_classifier_stats(y_train, pred)\n",
    "    metric['i'] = i\n",
    "    metric['sample'] ='train'\n",
    "    out.append(metric)\n",
    "    \n",
    "    pred = model.predict(X_test)\n",
    "    metric = binary_classifier_stats(y_test, pred)\n",
    "    metric['i'] = i\n",
    "    metric['sample'] ='test'\n",
    "    out.append(metric)\n",
    "\n",
    "\n",
    "\n",
    "df = pd.DataFrame(out)\n",
    "plt.figure(figsize=(20,10))\n",
    "sns.lineplot(data=df, x='i', y='recall', hue='sample')"
   ]
  },
  {
   "cell_type": "markdown",
   "metadata": {},
   "source": [
    "## Final model selection"
   ]
  },
  {
   "cell_type": "code",
   "execution_count": 81,
   "metadata": {},
   "outputs": [
    {
     "data": {
      "text/plain": [
       "{'accuracy': 0.75,\n",
       " 'false_positive_rate': 0.4808362369337979,\n",
       " 'false_negative_rate': 0.09112709832134293,\n",
       " 'precision': 0.519163763066202,\n",
       " 'recall': 0.7967914438502673,\n",
       " 'f1-score': 0.6286919831223629}"
      ]
     },
     "execution_count": 81,
     "metadata": {},
     "output_type": "execute_result"
    }
   ],
   "source": [
    "model = LogisticRegression(max_iter=200, random_state=8)\n",
    "model.fit(X_train,y_train)\n",
    "pred = model.predict(X_test)\n",
    "binary_classifier_stats(y_test, pred)"
   ]
  },
  {
   "cell_type": "code",
   "execution_count": 75,
   "metadata": {},
   "outputs": [
    {
     "data": {
      "text/plain": [
       "{'accuracy': 0.7228003784295175,\n",
       " 'false_positive_rate': 0.5136268343815513,\n",
       " 'false_negative_rate': 0.08275862068965517,\n",
       " 'precision': 0.4863731656184486,\n",
       " 'recall': 0.8285714285714286,\n",
       " 'f1-score': 0.6129458388375165}"
      ]
     },
     "execution_count": 75,
     "metadata": {},
     "output_type": "execute_result"
    }
   ],
   "source": [
    "model = LogisticRegression(max_iter=200, random_state=8)\n",
    "model.fit(X_train,y_train)\n",
    "pred = model.predict(X_validate)\n",
    "binary_classifier_stats(y_validate, pred)"
   ]
  },
  {
   "cell_type": "code",
   "execution_count": 76,
   "metadata": {},
   "outputs": [
    {
     "data": {
      "text/plain": [
       "(array([False,  True]), array([580, 477], dtype=int64))"
      ]
     },
     "execution_count": 76,
     "metadata": {},
     "output_type": "execute_result"
    }
   ],
   "source": [
    "np.unique(pred, return_counts=True)"
   ]
  },
  {
   "cell_type": "code",
   "execution_count": 77,
   "metadata": {},
   "outputs": [
    {
     "data": {
      "text/plain": [
       "{'accuracy': 0.7627840909090909,\n",
       " 'false_positive_rate': 0.46226415094339623,\n",
       " 'false_negative_rate': 0.10136674259681093,\n",
       " 'precision': 0.5377358490566038,\n",
       " 'recall': 0.7620320855614974,\n",
       " 'f1-score': 0.6305309734513274}"
      ]
     },
     "execution_count": 77,
     "metadata": {},
     "output_type": "execute_result"
    }
   ],
   "source": [
    "model = RandomForestClassifier(max_depth=8,\n",
    "                            min_samples_leaf = 8,\n",
    "                            random_state=8)\n",
    "model.fit(X_train,y_train)\n",
    "pred = model.predict(X_test)\n",
    "binary_classifier_stats(y_test, pred)"
   ]
  },
  {
   "cell_type": "code",
   "execution_count": 78,
   "metadata": {},
   "outputs": [
    {
     "data": {
      "text/plain": [
       "{'accuracy': 0.7407757805108799,\n",
       " 'false_positive_rate': 0.49318181818181817,\n",
       " 'false_negative_rate': 0.09238249594813615,\n",
       " 'precision': 0.5068181818181818,\n",
       " 'recall': 0.7964285714285714,\n",
       " 'f1-score': 0.6194444444444445}"
      ]
     },
     "execution_count": 78,
     "metadata": {},
     "output_type": "execute_result"
    }
   ],
   "source": [
    "model = RandomForestClassifier(max_depth=8,\n",
    "                            min_samples_leaf = 8,\n",
    "                            random_state=8)\n",
    "model.fit(X_train,y_train)\n",
    "pred = model.predict(X_validate)\n",
    "binary_classifier_stats(y_validate, pred)"
   ]
  },
  {
   "cell_type": "code",
   "execution_count": 79,
   "metadata": {},
   "outputs": [
    {
     "data": {
      "text/plain": [
       "(array([False,  True]), array([617, 440], dtype=int64))"
      ]
     },
     "execution_count": 79,
     "metadata": {},
     "output_type": "execute_result"
    }
   ],
   "source": [
    "np.unique(pred, return_counts=True)"
   ]
  },
  {
   "cell_type": "markdown",
   "metadata": {},
   "source": [
    "Both of these models perform very well.  However, because the Logistic Regression model has better recall on average, I will select it as my best model and test it against the verify dataset."
   ]
  },
  {
   "cell_type": "code",
   "execution_count": 80,
   "metadata": {},
   "outputs": [
    {
     "data": {
      "text/plain": [
       "{'accuracy': 0.727530747398297,\n",
       " 'false_positive_rate': 0.5078651685393258,\n",
       " 'false_negative_rate': 0.10130718954248366,\n",
       " 'precision': 0.49213483146067416,\n",
       " 'recall': 0.7793594306049823,\n",
       " 'f1-score': 0.6033057851239669}"
      ]
     },
     "execution_count": 80,
     "metadata": {},
     "output_type": "execute_result"
    }
   ],
   "source": [
    "X_verify, y_verify = x_y_split(verify)\n",
    "model = LogisticRegression(max_iter=200, random_state=8)\n",
    "model.fit(X_train,y_train)\n",
    "pred = model.predict(X_verify)\n",
    "binary_classifier_stats(y_verify, pred)"
   ]
  },
  {
   "cell_type": "markdown",
   "metadata": {},
   "source": [
    "It seems to perform consistently with the recall score hovering around 80% in both in-sample and out-of-sample datasets.  Onto the next step!"
   ]
  },
  {
   "cell_type": "markdown",
   "metadata": {},
   "source": [
    "# DS Pipline step 5: Delivery"
   ]
  },
  {
   "cell_type": "markdown",
   "metadata": {},
   "source": [
    "Now we reach the stage in the pipeline where we need to think about how to share these findings and this model with others.\n",
    "\n",
    "Remember that there are two deliverables, the first being a report answering the company's questions, and the second being a machine-learning model that will be used to monitor the customer data.  \n",
    "\n",
    "To facilitate the first deliverable we will create a new Jupyter Notebook called [Final_Report.ipynb](./Final_report.ipynb).\n",
    "\n",
    "And to facilitate the second, we will create a python script that can quickly build our optimized model. [model.py](./model.py)"
   ]
  }
 ],
 "metadata": {
  "kernelspec": {
   "display_name": "Python 3.10.4 64-bit",
   "language": "python",
   "name": "python3"
  },
  "language_info": {
   "codemirror_mode": {
    "name": "ipython",
    "version": 3
   },
   "file_extension": ".py",
   "mimetype": "text/x-python",
   "name": "python",
   "nbconvert_exporter": "python",
   "pygments_lexer": "ipython3",
   "version": "3.10.4"
  },
  "orig_nbformat": 4,
  "vscode": {
   "interpreter": {
    "hash": "37b4e1d782780d9803a775659fc8b81e9cc61a0899d4564192c1f7cc3c556e45"
   }
  }
 },
 "nbformat": 4,
 "nbformat_minor": 2
}
